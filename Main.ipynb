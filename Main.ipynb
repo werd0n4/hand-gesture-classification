{
  "nbformat": 4,
  "nbformat_minor": 0,
  "metadata": {
    "colab": {
      "name": "Main.ipynb",
      "provenance": [],
      "collapsed_sections": [],
      "toc_visible": true,
      "authorship_tag": "ABX9TyM99HJuHCB0hflsQgJHy+8B",
      "include_colab_link": true
    },
    "kernelspec": {
      "name": "python3",
      "display_name": "Python 3"
    },
    "accelerator": "GPU"
  },
  "cells": [
    {
      "cell_type": "markdown",
      "metadata": {
        "id": "view-in-github",
        "colab_type": "text"
      },
      "source": [
        "<a href=\"https://colab.research.google.com/github/werd0n4/hand-gesture-classification/blob/master/Main.ipynb\" target=\"_parent\"><img src=\"https://colab.research.google.com/assets/colab-badge.svg\" alt=\"Open In Colab\"/></a>"
      ]
    },
    {
      "cell_type": "markdown",
      "metadata": {
        "id": "WWV-fQOYLdCT"
      },
      "source": [
        "# Import libraries\n",
        "\n",
        "---\n"
      ]
    },
    {
      "cell_type": "code",
      "metadata": {
        "id": "5q8kzcXXwFg7",
        "outputId": "3e709425-2d5a-4ba2-d667-5cbf2b7f8020",
        "colab": {
          "base_uri": "https://localhost:8080/"
        }
      },
      "source": [
        "from google.colab import drive\n",
        "drive.mount(\"/content/drive\")"
      ],
      "execution_count": null,
      "outputs": [
        {
          "output_type": "stream",
          "text": [
            "Drive already mounted at /content/drive; to attempt to forcibly remount, call drive.mount(\"/content/drive\", force_remount=True).\n"
          ],
          "name": "stdout"
        }
      ]
    },
    {
      "cell_type": "code",
      "metadata": {
        "id": "8XymGlouwU2-"
      },
      "source": [
        "# !ls"
      ],
      "execution_count": null,
      "outputs": []
    },
    {
      "cell_type": "code",
      "metadata": {
        "id": "mBEyz2mvZcZe"
      },
      "source": [
        "import pandas as pd\n",
        "import numpy as np\n",
        "import seaborn as sns\n",
        "\n",
        "from tensorflow.keras.models import Sequential\n",
        "from tensorflow.keras.layers import Dense, Conv2D, MaxPool2D, Flatten\n",
        "from tensorflow.keras.callbacks import EarlyStopping\n",
        "from tensorflow.keras.utils import to_categorical\n",
        "from tensorflow.keras.preprocessing.image import ImageDataGenerator\n",
        "from tensorflow.keras.models import load_model\n",
        "from tensorflow.keras import initializers\n",
        "\n",
        "from sklearn.model_selection import train_test_split\n",
        "from sklearn.metrics import classification_report\n",
        "\n",
        "import os\n",
        "import cv2\n",
        "import glob\n",
        "import random\n",
        "from matplotlib import pyplot as plt"
      ],
      "execution_count": null,
      "outputs": []
    },
    {
      "cell_type": "markdown",
      "metadata": {
        "id": "0ljCHYlFLKus"
      },
      "source": [
        "# Constant parameters\n",
        "\n",
        "---\n",
        "\n"
      ]
    },
    {
      "cell_type": "code",
      "metadata": {
        "id": "PgEIncCL4j8i"
      },
      "source": [
        "horiz_x = 600  \n",
        "vert_y = 480\n",
        "#drive paths\n",
        "#\n",
        "imgs_train_path = '/content/drive/My Drive/Colab Notebooks/Rozszerzony_dataset/Train/'\n",
        "imgs_test_path = '/content/drive/My Drive/Colab Notebooks/Rozszerzony_dataset/Test/'\n",
        "#local paths\n",
        "#\n",
        "# imgs_train_path = 'C:\\\\Users\\\\Werdon\\\\Google Drive\\\\Colab Notebooks\\\\Rozszerzony_dataset\\\\Train'\n",
        "# imgs_test_path = 'C:\\\\Users\\\\Werdon\\\\Google Drive\\\\Colab Notebooks\\\\Rozszerzony_dataset\\\\Train'"
      ],
      "execution_count": null,
      "outputs": []
    },
    {
      "cell_type": "code",
      "metadata": {
        "id": "D4fPPXAU7hhc"
      },
      "source": [
        "\n",
        "class_names = {\n",
        "    0: \"1\",\n",
        "    1: \"2\",\n",
        "    2: \"3\",\n",
        "    3: \"4\",\n",
        "    4: \"5\",\n",
        "    5: \"A\",\n",
        "    6: \"B\",\n",
        "    7: \"C\",\n",
        "    8: \"D\",\n",
        "    9: \"E\",\n",
        "    10: \"F\",\n",
        "    11: \"G\",\n",
        "    12: \"H\",\n",
        "    13: \"I\",\n",
        "    14: \"K\",\n",
        "    15: \"L\",\n",
        "    16: \"M\",\n",
        "    17: \"N\",\n",
        "    18: \"O\",\n",
        "    19: \"P\",\n",
        "    20: \"R\",\n",
        "    21: \"S\",\n",
        "    22: \"T\",\n",
        "    23: \"U\",\n",
        "    24: \"W\",\n",
        "    25: \"Y\",\n",
        "    26: \"Z\"\n",
        "}\n"
      ],
      "execution_count": null,
      "outputs": []
    },
    {
      "cell_type": "markdown",
      "metadata": {
        "id": "ixFACs6TLptD"
      },
      "source": [
        "# Auxiliary functions\n",
        "\n",
        "---\n"
      ]
    },
    {
      "cell_type": "markdown",
      "metadata": {
        "id": "1wS1Y3LhdoCk"
      },
      "source": [
        "## Image resize"
      ]
    },
    {
      "cell_type": "code",
      "metadata": {
        "id": "1WA7zKkLxRZk"
      },
      "source": [
        "\n",
        "def resize(path):\n",
        "    img_counter = 0\n",
        "\n",
        "    for dirname in os.listdir(path): \n",
        "        for filename in os.listdir(os.path.join(path, dirname)):\n",
        "            image_path = os.path.join(path, dirname, filename)\n",
        "            img = cv2.imread(image_path)\n",
        "            resized_img = cv2.resize(img, (horiz_x, vert_y))\n",
        "            cv2.imwrite(image_path, resized_img)\n",
        "            img_counter += 1\n",
        "    \n",
        "    print('Images in set: ' + str(img_counter))\n"
      ],
      "execution_count": null,
      "outputs": []
    },
    {
      "cell_type": "markdown",
      "metadata": {
        "id": "Xlo-plFYdu3g"
      },
      "source": [
        "## Image size sanity check"
      ]
    },
    {
      "cell_type": "code",
      "metadata": {
        "id": "D_RAtl1TrwJL"
      },
      "source": [
        "\n",
        "def sanity_check(path):\n",
        "    counter = 0\n",
        "\n",
        "    for dirname in os.listdir(path): \n",
        "        for filename in os.listdir(os.path.join(path, dirname)):\n",
        "            image_path = os.path.join(path, dirname, filename)\n",
        "            img = cv2.imread(image_path)\n",
        "            if img.shape != (horiz_x, vert_y, 3):\n",
        "                counter += 1\n",
        "\n",
        "    print('Sanity result: ' + str(counter))"
      ],
      "execution_count": null,
      "outputs": []
    },
    {
      "cell_type": "code",
      "metadata": {
        "id": "at3uxTKnHvKr"
      },
      "source": [
        "\n",
        "def show_img(index, X, Y):\n",
        "    # plt.imshow(X[index])\n",
        "    plt.imshow(cv2.cvtColor(X[index],cv2.COLOR_BGR2RGB).astype('float32'))\n",
        "    plt.show()\n",
        "    nmb = int(np.where(Y[index] == 1)[0])\n",
        "    print(\"On image: \" + class_names[nmb])"
      ],
      "execution_count": null,
      "outputs": []
    },
    {
      "cell_type": "markdown",
      "metadata": {
        "id": "sXO5S6_IL1Rp"
      },
      "source": [
        "## Load dataset"
      ]
    },
    {
      "cell_type": "code",
      "metadata": {
        "id": "GKpUsMrA4gkt"
      },
      "source": [
        "\n",
        "def load_dataset():\n",
        "    trainlist = glob.glob(f'{imgs_train_path}/*/*')\n",
        "    testlist = glob.glob(f'{imgs_test_path}/*/*')\n",
        "    X_train = np.array( [np.array(cv2.normalize(cv2.imread(fname), None, alpha=0, beta=1, norm_type=cv2.NORM_MINMAX, dtype=cv2.CV_32F)) for fname in trainlist] )\n",
        "    X_test = np.array( [np.array(cv2.normalize(cv2.imread(fname), None, alpha=0, beta=1, norm_type=cv2.NORM_MINMAX, dtype=cv2.CV_32F)) for fname in testlist] )\n",
        "\n",
        "    # Y_train = np.array([np.zeros(27) for fname in trainlist])\n",
        "    Y_train = np.array([0 for fname in trainlist])\n",
        "    for i,fname in enumerate(trainlist):\n",
        "        img_id = fname.split('/')[7]\n",
        "        img_id = img_id.split('_')[0]\n",
        "        # Y_train[i][img_id] = 1\n",
        "        Y_train[i] = img_id\n",
        "\n",
        "\n",
        "    # Y_test = np.array([np.zeros(27) for fname in testlist])\n",
        "    Y_test = np.array([0 for fname in testlist])\n",
        "    for i,fname in enumerate(testlist):\n",
        "        img_id = fname.split('/')[7]\n",
        "        img_id = img_id.split('_')[0]\n",
        "        # Y_test[i][img_id] = 1\n",
        "        Y_test[i] = img_id\n",
        "\n",
        "    return X_train, Y_train, X_test, Y_test\n"
      ],
      "execution_count": null,
      "outputs": []
    },
    {
      "cell_type": "markdown",
      "metadata": {
        "id": "52QUbDo5L9OC"
      },
      "source": [
        "## Create network model"
      ]
    },
    {
      "cell_type": "code",
      "metadata": {
        "id": "GGL1a8P5W1Ku"
      },
      "source": [
        "\n",
        "def create_model():\n",
        "    model = Sequential()\n",
        "    # initializer = initializers.RandomNormal(mean=0.0, stddev=0.05, seed=None)\n",
        "    kernel_initializer = None\n",
        "    activ_func = 'relu'\n",
        "    kernel_regularizer=None\n",
        "    activity_regularizer=None\n",
        "\n",
        "    # CONVOLUTIONAL LAYER - 1\n",
        "    model.add(Conv2D(\n",
        "        filters=6, \n",
        "        kernel_size=(5,5), \n",
        "        input_shape=(vert_y, horiz_x, 3), \n",
        "        activation=activ_func\n",
        "        # kernel_initializer=kernel_initializer\n",
        "        # kernel_regularizer=kernel_regularizer\n",
        "        # activity_regularizer=activity_regularizer\n",
        "    ))\n",
        "\n",
        "    # POOLING LAYER\n",
        "    model.add(MaxPool2D(\n",
        "        pool_size=(2,2),\n",
        "        strides=(2,2)\n",
        "    ))\n",
        "\n",
        "    # CONVOLUTIONAL LAYER - 2\n",
        "    model.add(Conv2D(\n",
        "        filters=16, \n",
        "        kernel_size=(5,5), \n",
        "        activation=activ_func\n",
        "        # kernel_initializer=kernel_initializer\n",
        "        # kernel_regularizer=kernel_regularizer\n",
        "        # activity_regularizer=activity_regularizer\n",
        "    ))\n",
        "\n",
        "    # POOLING LAYER\n",
        "    model.add(MaxPool2D(\n",
        "        pool_size=(2,2),\n",
        "        strides=(2,2)\n",
        "    ))\n",
        "\n",
        "    # CONVOLUTIONAL LAYER - 3\n",
        "    model.add(Conv2D(\n",
        "        filters=32, \n",
        "        kernel_size=(5,5), \n",
        "        activation=activ_func\n",
        "        # kernel_initializer=kernel_initializer\n",
        "        # kernel_regularizer=kernel_regularizer\n",
        "        # activity_regularizer=activity_regularizer\n",
        "    ))\n",
        "\n",
        "    # POOLING LAYER\n",
        "    model.add(MaxPool2D(\n",
        "        pool_size=(2,2),\n",
        "        strides=(2,2)\n",
        "    ))\n",
        "\n",
        "    # CONVOLUTIONAL LAYER - 4\n",
        "    model.add(Conv2D(\n",
        "        filters=120, \n",
        "        kernel_size=(5,5), \n",
        "        activation=activ_func\n",
        "        # kernel_initializer=kernel_initializer\n",
        "        # kernel_regularizer=kernel_regularizer\n",
        "        # activity_regularizer=activity_regularizer\n",
        "    ))\n",
        "\n",
        "    # POOLING LAYER\n",
        "    model.add(MaxPool2D(\n",
        "        pool_size=(2,2),\n",
        "        strides=(2,2)\n",
        "    ))\n",
        "\n",
        "    ######## FLATTEN ########\n",
        "    model.add(Flatten())\n",
        "    model.add(Dense(128, activation='relu'))\n",
        "    model.add(Dense(84, activation='relu'))\n",
        "    model.add(Dense(27, activation='softmax'))\n",
        "\n",
        "    model.compile(\n",
        "        loss='categorical_crossentropy',\n",
        "        optimizer='adam', \n",
        "        metrics=['accuracy']\n",
        "    )\n",
        "\n",
        "    return model\n"
      ],
      "execution_count": 39,
      "outputs": []
    },
    {
      "cell_type": "markdown",
      "metadata": {
        "id": "8aR-plpcMYMG"
      },
      "source": [
        "# Loading dataset\n",
        "\n",
        "---\n"
      ]
    },
    {
      "cell_type": "markdown",
      "metadata": {
        "id": "c60j15t047-T"
      },
      "source": [
        "## Resize images and do sanity check"
      ]
    },
    {
      "cell_type": "code",
      "metadata": {
        "id": "Xe0BVKLffdt3",
        "outputId": "db864fa3-97f6-4e03-bf52-431f23b56712",
        "colab": {
          "base_uri": "https://localhost:8080/"
        }
      },
      "source": [
        "# Uncomment before first run on dataset \n",
        "resize(imgs_train_path)\n",
        "sanity_check(imgs_train_path)\n",
        "resize(imgs_test_path)\n",
        "sanity_check(imgs_test_path)\n"
      ],
      "execution_count": null,
      "outputs": [
        {
          "output_type": "stream",
          "text": [
            "Images in set: 1561\n",
            "Sanity result: 1561\n",
            "Images in set: 297\n",
            "Sanity result: 297\n"
          ],
          "name": "stdout"
        }
      ]
    },
    {
      "cell_type": "code",
      "metadata": {
        "id": "r3YGc40zMT07"
      },
      "source": [
        "X_train, Y_train, X_test, Y_test = load_dataset()"
      ],
      "execution_count": null,
      "outputs": []
    },
    {
      "cell_type": "code",
      "metadata": {
        "id": "j2_6niPw-o-I"
      },
      "source": [
        "# One hot encoding\n",
        "Y_cat_train = to_categorical(Y_train, 27)\n",
        "Y_cat_test = to_categorical(Y_test, 27)"
      ],
      "execution_count": null,
      "outputs": []
    },
    {
      "cell_type": "markdown",
      "metadata": {
        "id": "AZbm9XBKCPtn"
      },
      "source": [
        "## Data augumentation"
      ]
    },
    {
      "cell_type": "markdown",
      "metadata": {
        "id": "lRThxI7Y8qKw"
      },
      "source": [
        "## Initializing ImageDataGenerator class"
      ]
    },
    {
      "cell_type": "code",
      "metadata": {
        "id": "s0PtMORrCPDN"
      },
      "source": [
        "image_gen = ImageDataGenerator(rotation_range=5, # rotate the image 20 degrees\n",
        "                               width_shift_range=0.05, # Shift the pic width by a max of 5%\n",
        "                               height_shift_range=0.05, # Shift the pic height by a max of 5%\n",
        "                            #    rescale=1.1, # Rescale the image by normalzing it.\n",
        "                               shear_range=0.05, # Shear means cutting away part of the image (max 10%)\n",
        "                               zoom_range=0.05, # Zoom in by 10% max\n",
        "                               fill_mode='nearest' # Fill in missing pixels with the nearest filled value\n",
        "                                )\n",
        "                              "
      ],
      "execution_count": null,
      "outputs": []
    },
    {
      "cell_type": "markdown",
      "metadata": {
        "id": "ryU4cvqRuDJL"
      },
      "source": [
        "## Augumentation sample result"
      ]
    },
    {
      "cell_type": "code",
      "metadata": {
        "id": "u2dLQoeLEgOq"
      },
      "source": [
        "#augumentation sample result\n",
        "\n",
        "#original img\n",
        "# nmb = random.randint(0, 296)\n",
        "# my_hand = X_test[nmb]\n",
        "# show_img(nmb, X_test, Y_cat_test)\n",
        "\n",
        "# #generated img\n",
        "# gen_img = image_gen.random_transform(my_hand)\n",
        "# print(\"Generated image\")\n",
        "# plt.imshow(cv2.cvtColor(gen_img,cv2.COLOR_BGR2RGB).astype('float32'))\n",
        "# plt.show()\n",
        "\n",
        "# comparison = my_hand == gen_img\n",
        "# equal_arrays = comparison.all()\n",
        "# print(\"Images are equal?: \" + str(equal_arrays))"
      ],
      "execution_count": null,
      "outputs": []
    },
    {
      "cell_type": "markdown",
      "metadata": {
        "id": "qM2dXXIsuIRj"
      },
      "source": [
        "## Image shape and batch size initialization"
      ]
    },
    {
      "cell_type": "code",
      "metadata": {
        "id": "vHoIHLMFMP_3",
        "outputId": "2c4b4bd9-6b89-4b81-8f53-1abdab67bfca",
        "colab": {
          "base_uri": "https://localhost:8080/"
        }
      },
      "source": [
        "image_shape = (horiz_x, vert_y, 3)\n",
        "batch_size = 8\n",
        "\n",
        "print(imgs_train_path)\n",
        "print(imgs_test_path)"
      ],
      "execution_count": null,
      "outputs": [
        {
          "output_type": "stream",
          "text": [
            "/content/drive/My Drive/Colab Notebooks/Rozszerzony_dataset/Train/\n",
            "/content/drive/My Drive/Colab Notebooks/Rozszerzony_dataset/Test/\n"
          ],
          "name": "stdout"
        }
      ]
    },
    {
      "cell_type": "markdown",
      "metadata": {
        "id": "BnjTP4lG82TX"
      },
      "source": [
        "## Initializing test and train image geneartors"
      ]
    },
    {
      "cell_type": "code",
      "metadata": {
        "id": "Re4ZJ1TZTm4o",
        "outputId": "c345183a-b467-4114-fd54-31ddd2f9eade",
        "colab": {
          "base_uri": "https://localhost:8080/"
        }
      },
      "source": [
        "train_image_gen = image_gen.flow_from_directory(imgs_train_path,\n",
        "                                               target_size=image_shape[:2],\n",
        "                                                color_mode='rgb',\n",
        "                                               batch_size=batch_size,\n",
        "                                               class_mode='categorical')"
      ],
      "execution_count": null,
      "outputs": [
        {
          "output_type": "stream",
          "text": [
            "Found 1561 images belonging to 27 classes.\n"
          ],
          "name": "stdout"
        }
      ]
    },
    {
      "cell_type": "code",
      "metadata": {
        "id": "PrWwYpgUTm4r",
        "outputId": "6af15b47-69fa-45c7-8c48-d78b6ed7c868",
        "colab": {
          "base_uri": "https://localhost:8080/"
        }
      },
      "source": [
        "test_image_gen = image_gen.flow_from_directory(imgs_test_path,\n",
        "                                               target_size=image_shape[:2],\n",
        "                                               color_mode='rgb',\n",
        "                                               batch_size=batch_size,\n",
        "                                               class_mode='categorical',shuffle=False)"
      ],
      "execution_count": null,
      "outputs": [
        {
          "output_type": "stream",
          "text": [
            "Found 297 images belonging to 27 classes.\n"
          ],
          "name": "stdout"
        }
      ]
    },
    {
      "cell_type": "code",
      "metadata": {
        "id": "WdwaoT7yMuME"
      },
      "source": [
        "#train_image_gen.class_indices"
      ],
      "execution_count": null,
      "outputs": []
    },
    {
      "cell_type": "markdown",
      "metadata": {
        "id": "LYxO9mzpMfAc"
      },
      "source": [
        "# Create and train model\n",
        "\n",
        "---\n"
      ]
    },
    {
      "cell_type": "code",
      "metadata": {
        "id": "tPcKT1LCpeaO",
        "outputId": "00bfbb35-9edb-40ab-8f27-b6782b61ab38",
        "colab": {
          "base_uri": "https://localhost:8080/"
        }
      },
      "source": [
        "CNN = create_model()\n",
        "CNN.summary()"
      ],
      "execution_count": 40,
      "outputs": [
        {
          "output_type": "stream",
          "text": [
            "Model: \"sequential_4\"\n",
            "_________________________________________________________________\n",
            "Layer (type)                 Output Shape              Param #   \n",
            "=================================================================\n",
            "conv2d_12 (Conv2D)           (None, 476, 596, 6)       456       \n",
            "_________________________________________________________________\n",
            "max_pooling2d_12 (MaxPooling (None, 238, 298, 6)       0         \n",
            "_________________________________________________________________\n",
            "conv2d_13 (Conv2D)           (None, 234, 294, 16)      2416      \n",
            "_________________________________________________________________\n",
            "max_pooling2d_13 (MaxPooling (None, 117, 147, 16)      0         \n",
            "_________________________________________________________________\n",
            "conv2d_14 (Conv2D)           (None, 113, 143, 32)      12832     \n",
            "_________________________________________________________________\n",
            "max_pooling2d_14 (MaxPooling (None, 56, 71, 32)        0         \n",
            "_________________________________________________________________\n",
            "conv2d_15 (Conv2D)           (None, 52, 67, 120)       96120     \n",
            "_________________________________________________________________\n",
            "max_pooling2d_15 (MaxPooling (None, 26, 33, 120)       0         \n",
            "_________________________________________________________________\n",
            "flatten_3 (Flatten)          (None, 102960)            0         \n",
            "_________________________________________________________________\n",
            "dense_9 (Dense)              (None, 128)               13179008  \n",
            "_________________________________________________________________\n",
            "dense_10 (Dense)             (None, 84)                10836     \n",
            "_________________________________________________________________\n",
            "dense_11 (Dense)             (None, 27)                2295      \n",
            "=================================================================\n",
            "Total params: 13,303,963\n",
            "Trainable params: 13,303,963\n",
            "Non-trainable params: 0\n",
            "_________________________________________________________________\n"
          ],
          "name": "stdout"
        }
      ]
    },
    {
      "cell_type": "code",
      "metadata": {
        "id": "70Mj2Adg6WR6"
      },
      "source": [
        "early_stop = EarlyStopping(monitor='val_loss', patience=2)\n",
        "#Y_cat_train.shape"
      ],
      "execution_count": null,
      "outputs": []
    },
    {
      "cell_type": "markdown",
      "metadata": {
        "id": "SxzkZIjI8-SR"
      },
      "source": [
        "## Fit model"
      ]
    },
    {
      "cell_type": "code",
      "metadata": {
        "id": "dIhC9fdDfi5V",
        "outputId": "f8380c43-b1d2-4d81-e053-e23011b3f7ad",
        "colab": {
          "base_uri": "https://localhost:8080/"
        }
      },
      "source": [
        "CNN.fit(X_train, Y_cat_train, epochs=12, validation_data=(X_test, Y_cat_test), batch_size=batch_size, callbacks=[early_stop])"
      ],
      "execution_count": 41,
      "outputs": [
        {
          "output_type": "stream",
          "text": [
            "Epoch 1/12\n",
            "196/196 [==============================] - 10s 49ms/step - loss: 3.3161 - accuracy: 0.0391 - val_loss: 3.2543 - val_accuracy: 0.0572\n",
            "Epoch 2/12\n",
            "196/196 [==============================] - 9s 47ms/step - loss: 3.1629 - accuracy: 0.0890 - val_loss: 3.0502 - val_accuracy: 0.1313\n",
            "Epoch 3/12\n",
            "196/196 [==============================] - 9s 48ms/step - loss: 2.7310 - accuracy: 0.2063 - val_loss: 2.6559 - val_accuracy: 0.2088\n",
            "Epoch 4/12\n",
            "196/196 [==============================] - 10s 49ms/step - loss: 2.0038 - accuracy: 0.4138 - val_loss: 2.5476 - val_accuracy: 0.2559\n",
            "Epoch 5/12\n",
            "196/196 [==============================] - 9s 48ms/step - loss: 1.0845 - accuracy: 0.6983 - val_loss: 3.0573 - val_accuracy: 0.2896\n",
            "Epoch 6/12\n",
            "196/196 [==============================] - 9s 48ms/step - loss: 0.4911 - accuracy: 0.8770 - val_loss: 5.0059 - val_accuracy: 0.2862\n"
          ],
          "name": "stdout"
        },
        {
          "output_type": "execute_result",
          "data": {
            "text/plain": [
              "<tensorflow.python.keras.callbacks.History at 0x7faad015fef0>"
            ]
          },
          "metadata": {
            "tags": []
          },
          "execution_count": 41
        }
      ]
    },
    {
      "cell_type": "markdown",
      "metadata": {
        "id": "VbhE5_p19EkS"
      },
      "source": [
        "## Fit model with data augumentation"
      ]
    },
    {
      "cell_type": "code",
      "metadata": {
        "id": "u9OcwzpmM-Fw"
      },
      "source": [
        "# results = CNN.fit(train_image_gen, epochs=20, validation_data=test_image_gen, callbacks=[early_stop])"
      ],
      "execution_count": null,
      "outputs": []
    },
    {
      "cell_type": "markdown",
      "metadata": {
        "id": "JAS0RR_jhsfI"
      },
      "source": [
        "## Saving model to file"
      ]
    },
    {
      "cell_type": "code",
      "metadata": {
        "id": "iAnrWeRXhva6"
      },
      "source": [
        "CNN.save('hand_gesture_classifier.h5')"
      ],
      "execution_count": null,
      "outputs": []
    },
    {
      "cell_type": "markdown",
      "metadata": {
        "id": "flOnxIQROl4_"
      },
      "source": [
        "# Results\n",
        "\n",
        "---\n"
      ]
    },
    {
      "cell_type": "code",
      "metadata": {
        "id": "VtaLSZAtgzPK",
        "outputId": "2e35762e-c71c-4390-806f-948c37273b7d",
        "colab": {
          "base_uri": "https://localhost:8080/",
          "height": 142
        }
      },
      "source": [
        "metrics = pd.DataFrame(CNN.history.history)\n",
        "metrics"
      ],
      "execution_count": null,
      "outputs": [
        {
          "output_type": "execute_result",
          "data": {
            "text/html": [
              "<div>\n",
              "<style scoped>\n",
              "    .dataframe tbody tr th:only-of-type {\n",
              "        vertical-align: middle;\n",
              "    }\n",
              "\n",
              "    .dataframe tbody tr th {\n",
              "        vertical-align: top;\n",
              "    }\n",
              "\n",
              "    .dataframe thead th {\n",
              "        text-align: right;\n",
              "    }\n",
              "</style>\n",
              "<table border=\"1\" class=\"dataframe\">\n",
              "  <thead>\n",
              "    <tr style=\"text-align: right;\">\n",
              "      <th></th>\n",
              "      <th>loss</th>\n",
              "      <th>accuracy</th>\n",
              "      <th>val_loss</th>\n",
              "      <th>val_accuracy</th>\n",
              "    </tr>\n",
              "  </thead>\n",
              "  <tbody>\n",
              "    <tr>\n",
              "      <th>0</th>\n",
              "      <td>3.305815</td>\n",
              "      <td>0.039078</td>\n",
              "      <td>3.295922</td>\n",
              "      <td>0.037037</td>\n",
              "    </tr>\n",
              "    <tr>\n",
              "      <th>1</th>\n",
              "      <td>3.296104</td>\n",
              "      <td>0.037156</td>\n",
              "      <td>3.295991</td>\n",
              "      <td>0.037037</td>\n",
              "    </tr>\n",
              "    <tr>\n",
              "      <th>2</th>\n",
              "      <td>3.295765</td>\n",
              "      <td>0.034593</td>\n",
              "      <td>3.296123</td>\n",
              "      <td>0.037037</td>\n",
              "    </tr>\n",
              "  </tbody>\n",
              "</table>\n",
              "</div>"
            ],
            "text/plain": [
              "       loss  accuracy  val_loss  val_accuracy\n",
              "0  3.305815  0.039078  3.295922      0.037037\n",
              "1  3.296104  0.037156  3.295991      0.037037\n",
              "2  3.295765  0.034593  3.296123      0.037037"
            ]
          },
          "metadata": {
            "tags": []
          },
          "execution_count": 25
        }
      ]
    },
    {
      "cell_type": "markdown",
      "metadata": {
        "id": "SFytDgrDOzFi"
      },
      "source": [
        "## Single image prediction"
      ]
    },
    {
      "cell_type": "code",
      "metadata": {
        "id": "bOhVHB_8VBdH",
        "outputId": "a89a4377-22a0-419e-a59c-fc6d81f772e8",
        "colab": {
          "base_uri": "https://localhost:8080/",
          "height": 286
        }
      },
      "source": [
        "nmb = 2\n",
        "my_hand = X_test[nmb]\n",
        "show_img(nmb, X_test, Y_cat_test)"
      ],
      "execution_count": null,
      "outputs": [
        {
          "output_type": "display_data",
          "data": {
            "image/png": "[encoded data removed]",
            "text/plain": [
              "<Figure size 432x288 with 1 Axes>"
            ]
          },
          "metadata": {
            "tags": [],
            "needs_background": "light"
          }
        },
        {
          "output_type": "stream",
          "text": [
            "On image: F\n"
          ],
          "name": "stdout"
        }
      ]
    },
    {
      "cell_type": "code",
      "metadata": {
        "id": "Y3AUJxpIW5or",
        "outputId": "d734fff4-eceb-4081-c840-beb4e64273df",
        "colab": {
          "base_uri": "https://localhost:8080/"
        }
      },
      "source": [
        "my_hand = my_hand.reshape(1, vert_y, horiz_x, 3)\n",
        "result = CNN.predict_classes(my_hand)\n",
        "# result = (CNN.predict(my_hand) > 0.5).astype(\"int32\")\n",
        "result = int(result)\n",
        "print('CNN says: ' + class_names[result])"
      ],
      "execution_count": null,
      "outputs": [
        {
          "output_type": "stream",
          "text": [
            "WARNING:tensorflow:From <ipython-input-27-9d2fa50755f2>:2: Sequential.predict_classes (from tensorflow.python.keras.engine.sequential) is deprecated and will be removed after 2021-01-01.\n",
            "Instructions for updating:\n",
            "Please use instead:* `np.argmax(model.predict(x), axis=-1)`,   if your model does multi-class classification   (e.g. if it uses a `softmax` last-layer activation).* `(model.predict(x) > 0.5).astype(\"int32\")`,   if your model does binary classification   (e.g. if it uses a `sigmoid` last-layer activation).\n",
            "CNN says: I\n"
          ],
          "name": "stdout"
        }
      ]
    },
    {
      "cell_type": "markdown",
      "metadata": {
        "id": "rQsDgI5RO3lm"
      },
      "source": [
        "## Predictions for individual classes"
      ]
    },
    {
      "cell_type": "code",
      "metadata": {
        "id": "e1CCpmyR-o_O"
      },
      "source": [
        "predictions = CNN.predict_classes(X_test)"
      ],
      "execution_count": null,
      "outputs": []
    },
    {
      "cell_type": "code",
      "metadata": {
        "id": "Zv3EpAC2XDKz",
        "outputId": "d5cc3bb5-242a-49de-d5c9-0e99889583c8",
        "colab": {
          "base_uri": "https://localhost:8080/"
        }
      },
      "source": [
        "print(classification_report(Y_test,predictions))"
      ],
      "execution_count": null,
      "outputs": [
        {
          "output_type": "stream",
          "text": [
            "              precision    recall  f1-score   support\n",
            "\n",
            "           0       0.00      0.00      0.00        11\n",
            "           1       0.00      0.00      0.00        11\n",
            "           2       0.00      0.00      0.00        11\n",
            "           3       0.00      0.00      0.00        11\n",
            "           4       0.00      0.00      0.00        11\n",
            "           5       0.00      0.00      0.00        11\n",
            "           6       0.00      0.00      0.00        11\n",
            "           7       0.00      0.00      0.00        11\n",
            "           8       0.00      0.00      0.00        11\n",
            "           9       0.00      0.00      0.00        11\n",
            "          10       0.00      0.00      0.00        11\n",
            "          11       0.00      0.00      0.00        11\n",
            "          12       0.00      0.00      0.00        11\n",
            "          13       0.04      1.00      0.07        11\n",
            "          14       0.00      0.00      0.00        11\n",
            "          15       0.00      0.00      0.00        11\n",
            "          16       0.00      0.00      0.00        11\n",
            "          17       0.00      0.00      0.00        11\n",
            "          18       0.00      0.00      0.00        11\n",
            "          19       0.00      0.00      0.00        11\n",
            "          20       0.00      0.00      0.00        11\n",
            "          21       0.00      0.00      0.00        11\n",
            "          22       0.00      0.00      0.00        11\n",
            "          23       0.00      0.00      0.00        11\n",
            "          24       0.00      0.00      0.00        11\n",
            "          25       0.00      0.00      0.00        11\n",
            "          26       0.00      0.00      0.00        11\n",
            "\n",
            "    accuracy                           0.04       297\n",
            "   macro avg       0.00      0.04      0.00       297\n",
            "weighted avg       0.00      0.04      0.00       297\n",
            "\n"
          ],
          "name": "stdout"
        },
        {
          "output_type": "stream",
          "text": [
            "/usr/local/lib/python3.6/dist-packages/sklearn/metrics/_classification.py:1272: UndefinedMetricWarning: Precision and F-score are ill-defined and being set to 0.0 in labels with no predicted samples. Use `zero_division` parameter to control this behavior.\n",
            "  _warn_prf(average, modifier, msg_start, len(result))\n"
          ],
          "name": "stderr"
        }
      ]
    },
    {
      "cell_type": "code",
      "metadata": {
        "id": "mAVH-aNsDY0F"
      },
      "source": [
        ""
      ],
      "execution_count": null,
      "outputs": []
    }
  ]
}