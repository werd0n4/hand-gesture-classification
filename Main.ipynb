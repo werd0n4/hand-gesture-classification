{
  "nbformat": 4,
  "nbformat_minor": 0,
  "metadata": {
    "colab": {
      "name": "Main.ipynb",
      "provenance": [],
      "collapsed_sections": [],
      "authorship_tag": "ABX9TyMEPQrd1AplcypttF5/slTu",
      "include_colab_link": true
    },
    "kernelspec": {
      "name": "python3",
      "display_name": "Python 3"
    },
    "accelerator": "GPU"
  },
  "cells": [
    {
      "cell_type": "markdown",
      "metadata": {
        "id": "view-in-github",
        "colab_type": "text"
      },
      "source": [
        "<a href=\"https://colab.research.google.com/github/werd0n4/hand-gesture-classification/blob/master/Main.ipynb\" target=\"_parent\"><img src=\"https://colab.research.google.com/assets/colab-badge.svg\" alt=\"Open In Colab\"/></a>"
      ]
    },
    {
      "cell_type": "markdown",
      "metadata": {
        "id": "WWV-fQOYLdCT"
      },
      "source": [
        "# Import libraries\n",
        "\n",
        "---\n"
      ]
    },
    {
      "cell_type": "code",
      "metadata": {
        "id": "5q8kzcXXwFg7",
        "outputId": "c0bb7e33-8d3f-43fe-c82b-bf093bf63169",
        "colab": {
          "base_uri": "https://localhost:8080/"
        }
      },
      "source": [
        "from google.colab import drive\n",
        "drive.mount(\"/content/drive\")"
      ],
      "execution_count": 14,
      "outputs": [
        {
          "output_type": "stream",
          "text": [
            "Drive already mounted at /content/drive; to attempt to forcibly remount, call drive.mount(\"/content/drive\", force_remount=True).\n"
          ],
          "name": "stdout"
        }
      ]
    },
    {
      "cell_type": "code",
      "metadata": {
        "id": "8XymGlouwU2-",
        "outputId": "4e144309-c80e-4d6b-f98f-faf57726f809",
        "colab": {
          "base_uri": "https://localhost:8080/"
        }
      },
      "source": [
        "!ls"
      ],
      "execution_count": 15,
      "outputs": [
        {
          "output_type": "stream",
          "text": [
            "drive  sample_data\n"
          ],
          "name": "stdout"
        }
      ]
    },
    {
      "cell_type": "code",
      "metadata": {
        "id": "mBEyz2mvZcZe"
      },
      "source": [
        "import pandas as pd\n",
        "import numpy as np\n",
        "\n",
        "import seaborn as sns\n",
        "from tensorflow.keras.models import Sequential\n",
        "from tensorflow.keras.layers import Dense, Conv2D, MaxPool2D, Flatten\n",
        "from tensorflow.keras.callbacks import EarlyStopping\n",
        "from sklearn.metrics import classification_report\n",
        "\n",
        "from tensorflow.keras.utils import to_categorical\n",
        "from sklearn.model_selection import train_test_split\n",
        "\n",
        "import os\n",
        "import cv2\n",
        "import glob\n",
        "import random\n",
        "from matplotlib import pyplot as plt"
      ],
      "execution_count": 16,
      "outputs": []
    },
    {
      "cell_type": "markdown",
      "metadata": {
        "id": "0ljCHYlFLKus"
      },
      "source": [
        "# Constant parameters\n",
        "\n",
        "---\n",
        "\n"
      ]
    },
    {
      "cell_type": "code",
      "metadata": {
        "id": "PgEIncCL4j8i"
      },
      "source": [
        "horiz_x = 174\n",
        "vert_y = 131\n",
        "imgs_dir_path = '/content/drive/My Drive/Colab Notebooks/hgr1_original_images'"
      ],
      "execution_count": 17,
      "outputs": []
    },
    {
      "cell_type": "code",
      "metadata": {
        "id": "D4fPPXAU7hhc",
        "outputId": "33795a61-831b-4def-9153-85c2f851f248",
        "colab": {
          "base_uri": "https://localhost:8080/"
        }
      },
      "source": [
        "class_ids = {\n",
        "    \"1_P\": 0, \n",
        "    \"2_P\": 1,\n",
        "    \"3_P\": 2,\n",
        "    \"4_P\": 3,\n",
        "    \"5_P\": 4,\n",
        "    \"A_P\": 5,\n",
        "    \"B_P\": 6,\n",
        "    \"C_P\": 7,\n",
        "    \"D_P\": 8,\n",
        "    \"E_P\": 9,\n",
        "    \"F_P\": 10,\n",
        "    \"G_P\": 11,\n",
        "    \"H_P\": 12,\n",
        "    \"I_P\": 13,\n",
        "    \"K_P\": 14,\n",
        "    \"L_P\": 15,\n",
        "    \"M_P\": 16,\n",
        "    \"N_P\": 17,\n",
        "    \"O_P\": 18,\n",
        "    \"P_P\": 19,\n",
        "    \"R_P\": 20,\n",
        "    \"S_P\": 21,\n",
        "    \"T_P\": 22,\n",
        "    \"U_P\": 23,\n",
        "    \"W_P\": 24,\n",
        "    \"Y_P\": 25,\n",
        "    \"Z_P\": 26\n",
        "}\n",
        "\n",
        "class_names = {\n",
        "    0: \"Polish number one\",\n",
        "    1: \"Polish number two\",\n",
        "    2: \"Polish number three\",\n",
        "    3: \"Polish number four\",\n",
        "    4: \"Polish number five\",\n",
        "    5: \"Polish letter A\",\n",
        "    6: \"Polish letter B\",\n",
        "    7: \"Polish letter C\",\n",
        "    8: \"Polish letter D\",\n",
        "    9: \"Polish letter E\",\n",
        "    10: \"Polish letter F\",\n",
        "    11: \"Polish letter G\",\n",
        "    12: \"Polish letter H\",\n",
        "    13: \"Polish letter I\",\n",
        "    14: \"Polish letter K\",\n",
        "    15: \"Polish letter L\",\n",
        "    16: \"Polish letter M\",\n",
        "    17: \"Polish letter N\",\n",
        "    18: \"Polish letter O\",\n",
        "    19: \"Polish letter P\",\n",
        "    20: \"Polish letter R\",\n",
        "    21: \"Polish letter S\",\n",
        "    22: \"Polish letter T\",\n",
        "    23: \"Polish letter U\",\n",
        "    24: \"Polish letter W\",\n",
        "    25: \"Polish letter Y\",\n",
        "    26: \"Polish letter Z\"\n",
        "}\n",
        "\n",
        "print(class_ids[\"1_P\"])"
      ],
      "execution_count": 18,
      "outputs": [
        {
          "output_type": "stream",
          "text": [
            "0\n"
          ],
          "name": "stdout"
        }
      ]
    },
    {
      "cell_type": "markdown",
      "metadata": {
        "id": "ixFACs6TLptD"
      },
      "source": [
        "# Auxiliary functions\n",
        "\n",
        "---\n"
      ]
    },
    {
      "cell_type": "code",
      "metadata": {
        "id": "1WA7zKkLxRZk"
      },
      "source": [
        "\n",
        "def resize(path):\n",
        "    img_counter = 0\n",
        "    \n",
        "    for filename in os.listdir(path):\n",
        "        image_path = os.path.join(path, filename)\n",
        "        # print(image_path)\n",
        "        img = cv2.imread(image_path)\n",
        "        resized_img = cv2.resize(img, (horiz_x, vert_y))\n",
        "        cv2.imwrite(image_path, resized_img)\n",
        "        img_counter += 1\n",
        "    \n",
        "    print('Images in set: ' + str(img_counter))\n"
      ],
      "execution_count": 19,
      "outputs": []
    },
    {
      "cell_type": "code",
      "metadata": {
        "id": "D_RAtl1TrwJL"
      },
      "source": [
        "\n",
        "def sanity_check(path):\n",
        "    counter = 0\n",
        "\n",
        "    for filename in os.listdir(path):\n",
        "        image_path = os.path.join(path, filename)\n",
        "        img = cv2.imread(image_path)\n",
        "        if img.shape != (horiz_x, vert_y, 3):\n",
        "            counter += 1\n",
        "\n",
        "    print('Sanity result: ' + str(counter))"
      ],
      "execution_count": 20,
      "outputs": []
    },
    {
      "cell_type": "code",
      "metadata": {
        "id": "at3uxTKnHvKr"
      },
      "source": [
        "\n",
        "def show_img(index, X, Y):\n",
        "    # plt.imshow(X[index])\n",
        "    plt.imshow(cv2.cvtColor(X[index],cv2.COLOR_BGR2RGB).astype('float32'))\n",
        "    plt.show()\n",
        "    nmb = int(np.where(Y[index] == 1)[0])\n",
        "    print(class_names[nmb])"
      ],
      "execution_count": 21,
      "outputs": []
    },
    {
      "cell_type": "code",
      "metadata": {
        "id": "Ncw2Yfp55ZF7"
      },
      "source": [
        "\n",
        "def count_classes():\n",
        "    filelist = glob.glob(f'{imgs_dir_path}/*')\n",
        "    classes_count = np.full((27), 0)\n",
        "    for i,fname in enumerate(filelist):\n",
        "        filename = fname.split('/')[-1]\n",
        "        fileid = str(filename[:3])\n",
        "        Y[i] = class_ids[fileid]\n",
        "        classes_count[class_ids[fileid]] += 1\n",
        "\n",
        "    return classes_count\n",
        "\n"
      ],
      "execution_count": 43,
      "outputs": []
    },
    {
      "cell_type": "markdown",
      "metadata": {
        "id": "sXO5S6_IL1Rp"
      },
      "source": [
        "## Load dataset"
      ]
    },
    {
      "cell_type": "code",
      "metadata": {
        "id": "GKpUsMrA4gkt"
      },
      "source": [
        "\n",
        "def load_dataset(path):\n",
        "    filelist = glob.glob(f'{imgs_dir_path}/*')\n",
        "    X = np.array( [np.array(cv2.normalize(cv2.imread(fname), None, alpha=0, beta=1, norm_type=cv2.NORM_MINMAX, dtype=cv2.CV_32F)) for fname in filelist] )\n",
        "\n",
        "    # Y = np.array([np.zeros(27) for fname in filelist])\n",
        "    Y = np.array([0 for fname in filelist])\n",
        "    # classes_count = np.full((27), 0)\n",
        "    for i,fname in enumerate(filelist):\n",
        "        filename = fname.split('/')[-1]\n",
        "        fileid = str(filename[:3])\n",
        "        # print(fileid)\n",
        "        # print(class_ids[fileid])\n",
        "        # Y[i][class_ids[fileid]] = 1\n",
        "        Y[i] = class_ids[fileid]\n",
        "        # classes_count[class_ids[fileid]] += 1\n",
        "\n",
        "    return X, Y"
      ],
      "execution_count": 22,
      "outputs": []
    },
    {
      "cell_type": "markdown",
      "metadata": {
        "id": "52QUbDo5L9OC"
      },
      "source": [
        "## Create network model"
      ]
    },
    {
      "cell_type": "code",
      "metadata": {
        "id": "GGL1a8P5W1Ku"
      },
      "source": [
        "\n",
        "def create_model():\n",
        "    model = Sequential()\n",
        "    \n",
        "    # CONVOLUTIONAL LAYER\n",
        "    model.add(Conv2D(\n",
        "        filters=6, \n",
        "        kernel_size=(5,5), \n",
        "        input_shape=(131, 174, 3), \n",
        "        activation='relu'\n",
        "    ))\n",
        "\n",
        "    # POOLING LAYER\n",
        "    model.add(MaxPool2D(\n",
        "        pool_size=(2,2),\n",
        "        strides=(2,2)\n",
        "    ))\n",
        "\n",
        "    # CONVOLUTIONAL LAYER\n",
        "    model.add(Conv2D(\n",
        "        filters=16, \n",
        "        kernel_size=(5,5), \n",
        "        input_shape=(62, 84, 6), \n",
        "        activation='relu'\n",
        "    ))\n",
        "\n",
        "    # POOLING LAYER\n",
        "    model.add(MaxPool2D(\n",
        "        pool_size=(2,2),\n",
        "        strides=(2,2)\n",
        "    ))\n",
        "\n",
        "    model.add(Flatten())\n",
        "    model.add(Dense(128, activation='relu'))\n",
        "    model.add(Dense(84, activation='relu'))\n",
        "    model.add(Dense(27, activation='softmax'))\n",
        "\n",
        "    model.compile(\n",
        "        loss='categorical_crossentropy',\n",
        "        optimizer='adam', \n",
        "        metrics=['accuracy']\n",
        "    )\n",
        "\n",
        "    return model\n"
      ],
      "execution_count": 23,
      "outputs": []
    },
    {
      "cell_type": "markdown",
      "metadata": {
        "id": "8aR-plpcMYMG"
      },
      "source": [
        "# Loading dataset\n",
        "\n",
        "---\n"
      ]
    },
    {
      "cell_type": "code",
      "metadata": {
        "id": "Xe0BVKLffdt3"
      },
      "source": [
        "### Uncomment if neccessary\n",
        "# resize(imgs_dir_path)\n",
        "# sanity_check(imgs_dir_path\n",
        "###"
      ],
      "execution_count": 24,
      "outputs": []
    },
    {
      "cell_type": "code",
      "metadata": {
        "id": "r3YGc40zMT07",
        "outputId": "08dc78b8-d1e5-4a12-d838-1bae90110c34",
        "colab": {
          "base_uri": "https://localhost:8080/"
        }
      },
      "source": [
        "X, Y = load_dataset(imgs_dir_path)"
      ],
      "execution_count": 25,
      "outputs": [
        {
          "output_type": "execute_result",
          "data": {
            "text/plain": [
              "(899,)"
            ]
          },
          "metadata": {
            "tags": []
          },
          "execution_count": 25
        }
      ]
    },
    {
      "cell_type": "code",
      "metadata": {
        "id": "BKpXaDHB5v59"
      },
      "source": [
        "classes_count = count_classes()"
      ],
      "execution_count": 44,
      "outputs": []
    },
    {
      "cell_type": "code",
      "metadata": {
        "id": "dWsZmpZD48uT",
        "outputId": "f0746b6d-c3d2-4e8e-ac36-40ba191bb4f5",
        "colab": {
          "base_uri": "https://localhost:8080/"
        }
      },
      "source": [
        "print(X.shape)\n",
        "print(Y.shape)\n",
        "print(classes_count)"
      ],
      "execution_count": 45,
      "outputs": [
        {
          "output_type": "stream",
          "text": [
            "(899, 131, 174, 3)\n",
            "(899,)\n",
            "[33 34 33 33 33 39 33 33 27 33 33 32 33 33 33 33 35 33 33 33 34 33 35 32\n",
            " 36 33 34]\n"
          ],
          "name": "stdout"
        }
      ]
    },
    {
      "cell_type": "code",
      "metadata": {
        "id": "yLbgF2tEIRQI"
      },
      "source": [
        "X_train, X_test, Y_train, Y_test = train_test_split(X, Y, test_size = 0.2)"
      ],
      "execution_count": 26,
      "outputs": []
    },
    {
      "cell_type": "code",
      "metadata": {
        "id": "j2_6niPw-o-I"
      },
      "source": [
        "# One hot encoding\n",
        "Y_cat_train = to_categorical(Y_train)\n",
        "Y_cat_test = to_categorical(Y_test)"
      ],
      "execution_count": 27,
      "outputs": []
    },
    {
      "cell_type": "markdown",
      "metadata": {
        "id": "LYxO9mzpMfAc"
      },
      "source": [
        "# Create and train model\n",
        "\n",
        "---\n"
      ]
    },
    {
      "cell_type": "code",
      "metadata": {
        "id": "tPcKT1LCpeaO",
        "outputId": "381cce4f-b6d5-4496-8533-7118ccd7d793",
        "colab": {
          "base_uri": "https://localhost:8080/"
        }
      },
      "source": [
        "CNN = create_model()\n",
        "CNN.summary()"
      ],
      "execution_count": 28,
      "outputs": [
        {
          "output_type": "stream",
          "text": [
            "Model: \"sequential\"\n",
            "_________________________________________________________________\n",
            "Layer (type)                 Output Shape              Param #   \n",
            "=================================================================\n",
            "conv2d (Conv2D)              (None, 127, 170, 6)       456       \n",
            "_________________________________________________________________\n",
            "max_pooling2d (MaxPooling2D) (None, 63, 85, 6)         0         \n",
            "_________________________________________________________________\n",
            "conv2d_1 (Conv2D)            (None, 59, 81, 16)        2416      \n",
            "_________________________________________________________________\n",
            "max_pooling2d_1 (MaxPooling2 (None, 29, 40, 16)        0         \n",
            "_________________________________________________________________\n",
            "flatten (Flatten)            (None, 18560)             0         \n",
            "_________________________________________________________________\n",
            "dense (Dense)                (None, 128)               2375808   \n",
            "_________________________________________________________________\n",
            "dense_1 (Dense)              (None, 84)                10836     \n",
            "_________________________________________________________________\n",
            "dense_2 (Dense)              (None, 27)                2295      \n",
            "=================================================================\n",
            "Total params: 2,391,811\n",
            "Trainable params: 2,391,811\n",
            "Non-trainable params: 0\n",
            "_________________________________________________________________\n"
          ],
          "name": "stdout"
        }
      ]
    },
    {
      "cell_type": "code",
      "metadata": {
        "id": "70Mj2Adg6WR6"
      },
      "source": [
        "early_stop = EarlyStopping(monitor='val_loss', patience=1)"
      ],
      "execution_count": 29,
      "outputs": []
    },
    {
      "cell_type": "code",
      "metadata": {
        "id": "dIhC9fdDfi5V",
        "outputId": "c5751d28-1a8a-4e25-ab2f-7b4f3977f924",
        "colab": {
          "base_uri": "https://localhost:8080/"
        }
      },
      "source": [
        "CNN.fit(X_train, Y_cat_train, epochs=26, validation_data=(X_test, Y_cat_test), callbacks=[early_stop])"
      ],
      "execution_count": 30,
      "outputs": [
        {
          "output_type": "stream",
          "text": [
            "Epoch 1/26\n",
            "23/23 [==============================] - 1s 44ms/step - loss: 3.3977 - accuracy: 0.0501 - val_loss: 3.2898 - val_accuracy: 0.0333\n",
            "Epoch 2/26\n",
            "23/23 [==============================] - 1s 24ms/step - loss: 3.2182 - accuracy: 0.0695 - val_loss: 3.2192 - val_accuracy: 0.1000\n",
            "Epoch 3/26\n",
            "23/23 [==============================] - 1s 25ms/step - loss: 2.8590 - accuracy: 0.2017 - val_loss: 2.8434 - val_accuracy: 0.1111\n",
            "Epoch 4/26\n",
            "23/23 [==============================] - 1s 24ms/step - loss: 2.1846 - accuracy: 0.3727 - val_loss: 2.5953 - val_accuracy: 0.1500\n",
            "Epoch 5/26\n",
            "23/23 [==============================] - 1s 25ms/step - loss: 1.6131 - accuracy: 0.5396 - val_loss: 2.6611 - val_accuracy: 0.2278\n"
          ],
          "name": "stdout"
        },
        {
          "output_type": "execute_result",
          "data": {
            "text/plain": [
              "<tensorflow.python.keras.callbacks.History at 0x7f8d9a5fc208>"
            ]
          },
          "metadata": {
            "tags": []
          },
          "execution_count": 30
        }
      ]
    },
    {
      "cell_type": "markdown",
      "metadata": {
        "id": "flOnxIQROl4_"
      },
      "source": [
        "# Results\n",
        "\n",
        "---\n"
      ]
    },
    {
      "cell_type": "code",
      "metadata": {
        "id": "VtaLSZAtgzPK",
        "outputId": "f5afca52-26f1-4000-cb19-7fe3c5c9f1a0",
        "colab": {
          "base_uri": "https://localhost:8080/",
          "height": 204
        }
      },
      "source": [
        "metrics = pd.DataFrame(CNN.history.history)\n",
        "metrics"
      ],
      "execution_count": 31,
      "outputs": [
        {
          "output_type": "execute_result",
          "data": {
            "text/html": [
              "<div>\n",
              "<style scoped>\n",
              "    .dataframe tbody tr th:only-of-type {\n",
              "        vertical-align: middle;\n",
              "    }\n",
              "\n",
              "    .dataframe tbody tr th {\n",
              "        vertical-align: top;\n",
              "    }\n",
              "\n",
              "    .dataframe thead th {\n",
              "        text-align: right;\n",
              "    }\n",
              "</style>\n",
              "<table border=\"1\" class=\"dataframe\">\n",
              "  <thead>\n",
              "    <tr style=\"text-align: right;\">\n",
              "      <th></th>\n",
              "      <th>loss</th>\n",
              "      <th>accuracy</th>\n",
              "      <th>val_loss</th>\n",
              "      <th>val_accuracy</th>\n",
              "    </tr>\n",
              "  </thead>\n",
              "  <tbody>\n",
              "    <tr>\n",
              "      <th>0</th>\n",
              "      <td>3.397697</td>\n",
              "      <td>0.050070</td>\n",
              "      <td>3.289772</td>\n",
              "      <td>0.033333</td>\n",
              "    </tr>\n",
              "    <tr>\n",
              "      <th>1</th>\n",
              "      <td>3.218233</td>\n",
              "      <td>0.069541</td>\n",
              "      <td>3.219246</td>\n",
              "      <td>0.100000</td>\n",
              "    </tr>\n",
              "    <tr>\n",
              "      <th>2</th>\n",
              "      <td>2.858956</td>\n",
              "      <td>0.201669</td>\n",
              "      <td>2.843434</td>\n",
              "      <td>0.111111</td>\n",
              "    </tr>\n",
              "    <tr>\n",
              "      <th>3</th>\n",
              "      <td>2.184644</td>\n",
              "      <td>0.372740</td>\n",
              "      <td>2.595311</td>\n",
              "      <td>0.150000</td>\n",
              "    </tr>\n",
              "    <tr>\n",
              "      <th>4</th>\n",
              "      <td>1.613137</td>\n",
              "      <td>0.539638</td>\n",
              "      <td>2.661090</td>\n",
              "      <td>0.227778</td>\n",
              "    </tr>\n",
              "  </tbody>\n",
              "</table>\n",
              "</div>"
            ],
            "text/plain": [
              "       loss  accuracy  val_loss  val_accuracy\n",
              "0  3.397697  0.050070  3.289772      0.033333\n",
              "1  3.218233  0.069541  3.219246      0.100000\n",
              "2  2.858956  0.201669  2.843434      0.111111\n",
              "3  2.184644  0.372740  2.595311      0.150000\n",
              "4  1.613137  0.539638  2.661090      0.227778"
            ]
          },
          "metadata": {
            "tags": []
          },
          "execution_count": 31
        }
      ]
    },
    {
      "cell_type": "markdown",
      "metadata": {
        "id": "SFytDgrDOzFi"
      },
      "source": [
        "## Single image prediction"
      ]
    },
    {
      "cell_type": "code",
      "metadata": {
        "id": "bOhVHB_8VBdH",
        "outputId": "43dd7dcd-b9b3-436c-e642-9343d4c7dda4",
        "colab": {
          "base_uri": "https://localhost:8080/",
          "height": 286
        }
      },
      "source": [
        "my_hand = X_test[0]\n",
        "show_img(0, X_test, Y_cat_test)"
      ],
      "execution_count": 32,
      "outputs": [
        {
          "output_type": "display_data",
          "data": {
            "image/png": "[encoded data removed]",
            "text/plain": [
              "<Figure size 432x288 with 1 Axes>"
            ]
          },
          "metadata": {
            "tags": [],
            "needs_background": "light"
          }
        },
        {
          "output_type": "stream",
          "text": [
            "Polish letter F\n"
          ],
          "name": "stdout"
        }
      ]
    },
    {
      "cell_type": "code",
      "metadata": {
        "id": "Y3AUJxpIW5or",
        "outputId": "90140918-d9a0-4e03-e0b9-067f202cdfd8",
        "colab": {
          "base_uri": "https://localhost:8080/"
        }
      },
      "source": [
        "my_hand = my_hand.reshape(1, 131, 174, 3)\n",
        "result = CNN.predict_classes(my_hand)\n",
        "result = int(result)\n",
        "print('CNN says: ' + class_names[result])"
      ],
      "execution_count": 33,
      "outputs": [
        {
          "output_type": "stream",
          "text": [
            "WARNING:tensorflow:From <ipython-input-33-559763ab23b4>:2: Sequential.predict_classes (from tensorflow.python.keras.engine.sequential) is deprecated and will be removed after 2021-01-01.\n",
            "Instructions for updating:\n",
            "Please use instead:* `np.argmax(model.predict(x), axis=-1)`,   if your model does multi-class classification   (e.g. if it uses a `softmax` last-layer activation).* `(model.predict(x) > 0.5).astype(\"int32\")`,   if your model does binary classification   (e.g. if it uses a `sigmoid` last-layer activation).\n",
            "CNN says: Polish letter G\n"
          ],
          "name": "stdout"
        }
      ]
    },
    {
      "cell_type": "markdown",
      "metadata": {
        "id": "rQsDgI5RO3lm"
      },
      "source": [
        "## Predictions for individual classes"
      ]
    },
    {
      "cell_type": "code",
      "metadata": {
        "id": "e1CCpmyR-o_O"
      },
      "source": [
        "predictions = CNN.predict_classes(X_test)"
      ],
      "execution_count": 34,
      "outputs": []
    },
    {
      "cell_type": "code",
      "metadata": {
        "id": "Zv3EpAC2XDKz",
        "outputId": "5818bc48-4ce7-4847-b239-82ff57d1ce5b",
        "colab": {
          "base_uri": "https://localhost:8080/"
        }
      },
      "source": [
        "print(classification_report(Y_test,predictions))"
      ],
      "execution_count": 35,
      "outputs": [
        {
          "output_type": "stream",
          "text": [
            "              precision    recall  f1-score   support\n",
            "\n",
            "           0       1.00      0.33      0.50         6\n",
            "           1       0.33      0.20      0.25         5\n",
            "           2       0.00      0.00      0.00         5\n",
            "           3       0.43      0.75      0.55         8\n",
            "           4       0.50      0.20      0.29         5\n",
            "           5       0.17      0.80      0.29         5\n",
            "           6       1.00      0.29      0.44         7\n",
            "           7       0.33      0.14      0.20         7\n",
            "           8       0.33      0.12      0.18         8\n",
            "           9       1.00      0.17      0.29         6\n",
            "          10       0.00      0.00      0.00         6\n",
            "          11       0.18      0.50      0.27         8\n",
            "          12       0.00      0.00      0.00         5\n",
            "          13       0.00      0.00      0.00         5\n",
            "          14       1.00      0.12      0.22         8\n",
            "          15       0.50      0.38      0.43         8\n",
            "          16       0.00      0.00      0.00         6\n",
            "          17       0.00      0.00      0.00         8\n",
            "          18       0.11      0.50      0.18         2\n",
            "          19       0.07      0.50      0.12         6\n",
            "          20       0.00      0.00      0.00        11\n",
            "          21       0.00      0.00      0.00         6\n",
            "          22       0.25      0.14      0.18         7\n",
            "          23       1.00      0.71      0.83         7\n",
            "          24       0.50      0.14      0.22         7\n",
            "          25       0.40      0.22      0.29         9\n",
            "          26       0.07      0.11      0.09         9\n",
            "\n",
            "    accuracy                           0.23       180\n",
            "   macro avg       0.34      0.23      0.21       180\n",
            "weighted avg       0.35      0.23      0.22       180\n",
            "\n"
          ],
          "name": "stdout"
        },
        {
          "output_type": "stream",
          "text": [
            "/usr/local/lib/python3.6/dist-packages/sklearn/metrics/_classification.py:1272: UndefinedMetricWarning: Precision and F-score are ill-defined and being set to 0.0 in labels with no predicted samples. Use `zero_division` parameter to control this behavior.\n",
            "  _warn_prf(average, modifier, msg_start, len(result))\n"
          ],
          "name": "stderr"
        }
      ]
    },
    {
      "cell_type": "code",
      "metadata": {
        "id": "mAVH-aNsDY0F"
      },
      "source": [
        ""
      ],
      "execution_count": 35,
      "outputs": []
    }
  ]
}