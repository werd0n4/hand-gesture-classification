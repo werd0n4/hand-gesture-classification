{
  "nbformat": 4,
  "nbformat_minor": 0,
  "metadata": {
    "colab": {
      "name": "Main.ipynb",
      "provenance": [],
      "collapsed_sections": [],
      "authorship_tag": "ABX9TyP1j19+5jiQMTV5V4q/Di+a",
      "include_colab_link": true
    },
    "kernelspec": {
      "name": "python3",
      "display_name": "Python 3"
    },
    "accelerator": "GPU"
  },
  "cells": [
    {
      "cell_type": "markdown",
      "metadata": {
        "id": "view-in-github",
        "colab_type": "text"
      },
      "source": [
        "<a href=\"https://colab.research.google.com/github/werd0n4/hand-gesture-classification/blob/master/Main.ipynb\" target=\"_parent\"><img src=\"https://colab.research.google.com/assets/colab-badge.svg\" alt=\"Open In Colab\"/></a>"
      ]
    },
    {
      "cell_type": "markdown",
      "metadata": {
        "id": "WWV-fQOYLdCT"
      },
      "source": [
        "# Import libraries"
      ]
    },
    {
      "cell_type": "code",
      "metadata": {
        "id": "5q8kzcXXwFg7",
        "outputId": "843c3b06-401f-4ef9-ec47-856cf1943f68",
        "colab": {
          "base_uri": "https://localhost:8080/"
        }
      },
      "source": [
        "from google.colab import drive\n",
        "drive.mount(\"/content/drive\")"
      ],
      "execution_count": 47,
      "outputs": [
        {
          "output_type": "stream",
          "text": [
            "Drive already mounted at /content/drive; to attempt to forcibly remount, call drive.mount(\"/content/drive\", force_remount=True).\n"
          ],
          "name": "stdout"
        }
      ]
    },
    {
      "cell_type": "code",
      "metadata": {
        "id": "8XymGlouwU2-",
        "outputId": "2dae4927-26cd-4d82-c8c5-7a7d5e830cc2",
        "colab": {
          "base_uri": "https://localhost:8080/"
        }
      },
      "source": [
        "!ls"
      ],
      "execution_count": 48,
      "outputs": [
        {
          "output_type": "stream",
          "text": [
            "drive  sample_data\n"
          ],
          "name": "stdout"
        }
      ]
    },
    {
      "cell_type": "code",
      "metadata": {
        "id": "mBEyz2mvZcZe"
      },
      "source": [
        "import pandas as pd\n",
        "import numpy as np\n",
        "\n",
        "import seaborn as sns\n",
        "from tensorflow.keras.models import Sequential\n",
        "from tensorflow.keras.layers import Dense, Conv2D, MaxPool2D, Flatten\n",
        "from tensorflow.keras.callbacks import EarlyStopping\n",
        "from sklearn.metrics import classification_report\n",
        "\n",
        "from tensorflow.keras.utils import to_categorical\n",
        "from sklearn.model_selection import train_test_split\n",
        "\n",
        "import os\n",
        "import cv2\n",
        "import glob\n",
        "import random\n",
        "from matplotlib import pyplot as plt"
      ],
      "execution_count": 49,
      "outputs": []
    },
    {
      "cell_type": "markdown",
      "metadata": {
        "id": "0ljCHYlFLKus"
      },
      "source": [
        "## Constant parameters"
      ]
    },
    {
      "cell_type": "code",
      "metadata": {
        "id": "PgEIncCL4j8i"
      },
      "source": [
        "horiz_x = 174\n",
        "vert_y = 131\n",
        "imgs_dir_path = '/content/drive/My Drive/Colab Notebooks/hgr1_original_images'"
      ],
      "execution_count": 50,
      "outputs": []
    },
    {
      "cell_type": "code",
      "metadata": {
        "id": "D4fPPXAU7hhc",
        "outputId": "dcab83ad-7933-4eb2-9efb-014864a5deff",
        "colab": {
          "base_uri": "https://localhost:8080/"
        }
      },
      "source": [
        "class_ids = {\n",
        "    \"1_P\": 0, \n",
        "    \"2_P\": 1,\n",
        "    \"3_P\": 2,\n",
        "    \"4_P\": 3,\n",
        "    \"5_P\": 4,\n",
        "    \"A_P\": 5,\n",
        "    \"B_P\": 6,\n",
        "    \"C_P\": 7,\n",
        "    \"D_P\": 8,\n",
        "    \"E_P\": 9,\n",
        "    \"F_P\": 10,\n",
        "    \"G_P\": 11,\n",
        "    \"H_P\": 12,\n",
        "    \"I_P\": 13,\n",
        "    \"K_P\": 14,\n",
        "    \"L_P\": 15,\n",
        "    \"M_P\": 16,\n",
        "    \"N_P\": 17,\n",
        "    \"O_P\": 18,\n",
        "    \"P_P\": 19,\n",
        "    \"R_P\": 20,\n",
        "    \"S_P\": 21,\n",
        "    \"T_P\": 22,\n",
        "    \"U_P\": 23,\n",
        "    \"W_P\": 24,\n",
        "    \"Y_P\": 25,\n",
        "    \"Z_P\": 26\n",
        "}\n",
        "\n",
        "class_names = {\n",
        "    0: \"Polish number one\",\n",
        "    1: \"Polish number two\",\n",
        "    2: \"Polish number three\",\n",
        "    3: \"Polish number four\",\n",
        "    4: \"Polish number five\",\n",
        "    5: \"Polish letter A\",\n",
        "    6: \"Polish letter B\",\n",
        "    7: \"Polish letter C\",\n",
        "    8: \"Polish letter D\",\n",
        "    9: \"Polish letter E\",\n",
        "    10: \"Polish letter F\",\n",
        "    11: \"Polish letter G\",\n",
        "    12: \"Polish letter H\",\n",
        "    13: \"Polish letter I\",\n",
        "    14: \"Polish letter K\",\n",
        "    15: \"Polish letter L\",\n",
        "    16: \"Polish letter M\",\n",
        "    17: \"Polish letter N\",\n",
        "    18: \"Polish letter O\",\n",
        "    19: \"Polish letter P\",\n",
        "    20: \"Polish letter R\",\n",
        "    21: \"Polish letter S\",\n",
        "    22: \"Polish letter T\",\n",
        "    23: \"Polish letter U\",\n",
        "    24: \"Polish letter W\",\n",
        "    25: \"Polish letter Y\",\n",
        "    26: \"Polish letter Z\"\n",
        "}\n",
        "\n",
        "print(class_ids[\"1_P\"])"
      ],
      "execution_count": 51,
      "outputs": [
        {
          "output_type": "stream",
          "text": [
            "0\n"
          ],
          "name": "stdout"
        }
      ]
    },
    {
      "cell_type": "markdown",
      "metadata": {
        "id": "ixFACs6TLptD"
      },
      "source": [
        "\n",
        "# Auxiliary functions"
      ]
    },
    {
      "cell_type": "code",
      "metadata": {
        "id": "1WA7zKkLxRZk"
      },
      "source": [
        "\n",
        "def resize(path):\n",
        "    img_counter = 0\n",
        "    \n",
        "    for filename in os.listdir(path):\n",
        "        image_path = os.path.join(path, filename)\n",
        "        # print(image_path)\n",
        "        img = cv2.imread(image_path)\n",
        "        resized_img = cv2.resize(img, (horiz_x, vert_y))\n",
        "        cv2.imwrite(image_path, resized_img)\n",
        "        img_counter += 1\n",
        "    \n",
        "    print('Images in set: ' + str(img_counter))\n"
      ],
      "execution_count": 52,
      "outputs": []
    },
    {
      "cell_type": "code",
      "metadata": {
        "id": "D_RAtl1TrwJL"
      },
      "source": [
        "\n",
        "def sanity_check(path):\n",
        "    counter = 0\n",
        "\n",
        "    for filename in os.listdir(path):\n",
        "        image_path = os.path.join(path, filename)\n",
        "        img = cv2.imread(image_path)\n",
        "        if img.shape != (horiz_x, vert_y, 3):\n",
        "            counter += 1\n",
        "\n",
        "    print('Sanity result: ' + str(counter))"
      ],
      "execution_count": 53,
      "outputs": []
    },
    {
      "cell_type": "code",
      "metadata": {
        "id": "at3uxTKnHvKr"
      },
      "source": [
        "\n",
        "def show_img(index, X, Y):\n",
        "    # plt.imshow(X[index])\n",
        "    plt.imshow(cv2.cvtColor(X[index],cv2.COLOR_BGR2RGB).astype('float32'))\n",
        "    plt.show()\n",
        "    nmb = int(np.where(Y[index] == 1)[0])\n",
        "    print(class_names[nmb])"
      ],
      "execution_count": 54,
      "outputs": []
    },
    {
      "cell_type": "markdown",
      "metadata": {
        "id": "sXO5S6_IL1Rp"
      },
      "source": [
        "## Load dataset"
      ]
    },
    {
      "cell_type": "code",
      "metadata": {
        "id": "GKpUsMrA4gkt"
      },
      "source": [
        "\n",
        "def load_dataset(path):\n",
        "    filelist = glob.glob(f'{imgs_dir_path}/*')\n",
        "    X = np.array( [np.array(cv2.normalize(cv2.imread(fname), None, alpha=0, beta=1, norm_type=cv2.NORM_MINMAX, dtype=cv2.CV_32F)) for fname in filelist] )\n",
        "\n",
        "    # Y = np.array([np.zeros(27) for fname in filelist])\n",
        "    Y = np.array([0 for fname in filelist])\n",
        "    for i,fname in enumerate(filelist):\n",
        "        filename = fname.split('/')[-1]\n",
        "        fileid = str(filename[:3])\n",
        "        # print(fileid)\n",
        "        # print(class_ids[fileid])\n",
        "        # Y[i][class_ids[fileid]] = 1\n",
        "        Y[i] = class_ids[fileid]\n",
        "\n",
        "    return X, Y"
      ],
      "execution_count": 55,
      "outputs": []
    },
    {
      "cell_type": "markdown",
      "metadata": {
        "id": "52QUbDo5L9OC"
      },
      "source": [
        "## Create network model"
      ]
    },
    {
      "cell_type": "code",
      "metadata": {
        "id": "GGL1a8P5W1Ku"
      },
      "source": [
        "\n",
        "def create_model():\n",
        "    model = Sequential()\n",
        "    \n",
        "    model.add(Conv2D(\n",
        "        filters=6, \n",
        "        kernel_size=(5,5), \n",
        "        input_shape=(131, 174, 3), \n",
        "        activation='relu'\n",
        "    ))\n",
        "    model.add(MaxPool2D(\n",
        "        pool_size=(2,2),\n",
        "        strides=(2,2)\n",
        "    ))\n",
        "\n",
        "    model.add(Conv2D(\n",
        "        filters=16, \n",
        "        kernel_size=(5,5), \n",
        "        input_shape=(62, 84, 6), \n",
        "        activation='relu'\n",
        "    ))\n",
        "    model.add(MaxPool2D(\n",
        "        pool_size=(2,2),\n",
        "        strides=(2,2)\n",
        "    ))\n",
        "\n",
        "\n",
        "    model.add(Flatten())\n",
        "    model.add(Dense(128, activation='relu'))\n",
        "    model.add(Dense(84, activation='relu'))\n",
        "    model.add(Dense(27, activation='softmax'))\n",
        "\n",
        "    model.compile(loss='categorical_crossentropy', optimizer='adam', metrics=['accuracy'])\n",
        "\n",
        "    return model\n"
      ],
      "execution_count": 56,
      "outputs": []
    },
    {
      "cell_type": "markdown",
      "metadata": {
        "id": "8aR-plpcMYMG"
      },
      "source": [
        "# Loading dataset"
      ]
    },
    {
      "cell_type": "code",
      "metadata": {
        "id": "Xe0BVKLffdt3"
      },
      "source": [
        "### Uncomment if neccessary\n",
        "# resize(imgs_dir_path)\n",
        "# sanity_check(imgs_dir_path\n",
        "###"
      ],
      "execution_count": 57,
      "outputs": []
    },
    {
      "cell_type": "code",
      "metadata": {
        "id": "r3YGc40zMT07"
      },
      "source": [
        "X, Y = load_dataset(imgs_dir_path)"
      ],
      "execution_count": null,
      "outputs": []
    },
    {
      "cell_type": "code",
      "metadata": {
        "id": "yLbgF2tEIRQI"
      },
      "source": [
        "X_train, X_test, Y_train, Y_test = train_test_split(X, Y, test_size = 0.2)"
      ],
      "execution_count": 58,
      "outputs": []
    },
    {
      "cell_type": "code",
      "metadata": {
        "id": "j2_6niPw-o-I"
      },
      "source": [
        "Y_cat_train = to_categorical(Y_train)\n",
        "Y_cat_test = to_categorical(Y_test)"
      ],
      "execution_count": 64,
      "outputs": []
    },
    {
      "cell_type": "markdown",
      "metadata": {
        "id": "LYxO9mzpMfAc"
      },
      "source": [
        "# Create and train model"
      ]
    },
    {
      "cell_type": "code",
      "metadata": {
        "id": "tPcKT1LCpeaO",
        "outputId": "ad2014fe-1c9a-4bb8-af5b-2fe56cb06972",
        "colab": {
          "base_uri": "https://localhost:8080/"
        }
      },
      "source": [
        "CNN = create_model()\n",
        "CNN.summary()"
      ],
      "execution_count": 65,
      "outputs": [
        {
          "output_type": "stream",
          "text": [
            "Model: \"sequential_2\"\n",
            "_________________________________________________________________\n",
            "Layer (type)                 Output Shape              Param #   \n",
            "=================================================================\n",
            "conv2d_4 (Conv2D)            (None, 127, 170, 6)       456       \n",
            "_________________________________________________________________\n",
            "max_pooling2d_4 (MaxPooling2 (None, 63, 85, 6)         0         \n",
            "_________________________________________________________________\n",
            "conv2d_5 (Conv2D)            (None, 59, 81, 16)        2416      \n",
            "_________________________________________________________________\n",
            "max_pooling2d_5 (MaxPooling2 (None, 29, 40, 16)        0         \n",
            "_________________________________________________________________\n",
            "flatten_2 (Flatten)          (None, 18560)             0         \n",
            "_________________________________________________________________\n",
            "dense_6 (Dense)              (None, 128)               2375808   \n",
            "_________________________________________________________________\n",
            "dense_7 (Dense)              (None, 84)                10836     \n",
            "_________________________________________________________________\n",
            "dense_8 (Dense)              (None, 27)                2295      \n",
            "=================================================================\n",
            "Total params: 2,391,811\n",
            "Trainable params: 2,391,811\n",
            "Non-trainable params: 0\n",
            "_________________________________________________________________\n"
          ],
          "name": "stdout"
        }
      ]
    },
    {
      "cell_type": "code",
      "metadata": {
        "id": "70Mj2Adg6WR6"
      },
      "source": [
        "early_stop = EarlyStopping(monitor='val_loss', patience=1)"
      ],
      "execution_count": 66,
      "outputs": []
    },
    {
      "cell_type": "code",
      "metadata": {
        "id": "dIhC9fdDfi5V",
        "outputId": "2dd884b4-e454-429b-b40c-b36224714700",
        "colab": {
          "base_uri": "https://localhost:8080/"
        }
      },
      "source": [
        "CNN.fit(X_train, Y_cat_train, epochs=26, validation_data=(X_test, Y_cat_test), callbacks=[early_stop])"
      ],
      "execution_count": 67,
      "outputs": [
        {
          "output_type": "stream",
          "text": [
            "Epoch 1/26\n",
            "23/23 [==============================] - 1s 37ms/step - loss: 3.4007 - accuracy: 0.0431 - val_loss: 3.3009 - val_accuracy: 0.0222\n",
            "Epoch 2/26\n",
            "23/23 [==============================] - 1s 26ms/step - loss: 3.2825 - accuracy: 0.0487 - val_loss: 3.2624 - val_accuracy: 0.0833\n",
            "Epoch 3/26\n",
            "23/23 [==============================] - 1s 26ms/step - loss: 3.1234 - accuracy: 0.1321 - val_loss: 3.1266 - val_accuracy: 0.0944\n",
            "Epoch 4/26\n",
            "23/23 [==============================] - 1s 26ms/step - loss: 2.6312 - accuracy: 0.2545 - val_loss: 2.8780 - val_accuracy: 0.1667\n",
            "Epoch 5/26\n",
            "23/23 [==============================] - 1s 25ms/step - loss: 1.8773 - accuracy: 0.4910 - val_loss: 2.7197 - val_accuracy: 0.2222\n",
            "Epoch 6/26\n",
            "23/23 [==============================] - 1s 26ms/step - loss: 1.2622 - accuracy: 0.6217 - val_loss: 2.7842 - val_accuracy: 0.2278\n"
          ],
          "name": "stdout"
        },
        {
          "output_type": "execute_result",
          "data": {
            "text/plain": [
              "<tensorflow.python.keras.callbacks.History at 0x7f63cbd72780>"
            ]
          },
          "metadata": {
            "tags": []
          },
          "execution_count": 67
        }
      ]
    },
    {
      "cell_type": "code",
      "metadata": {
        "id": "VtaLSZAtgzPK",
        "outputId": "97e5d63c-73a6-498a-e7c3-24fa705ef87f",
        "colab": {
          "base_uri": "https://localhost:8080/",
          "height": 32
        }
      },
      "source": [
        "metrics = pd.DataFrame(CNN.history.history)\n",
        "metrics"
      ],
      "execution_count": 84,
      "outputs": [
        {
          "output_type": "execute_result",
          "data": {
            "text/html": [
              "<div>\n",
              "<style scoped>\n",
              "    .dataframe tbody tr th:only-of-type {\n",
              "        vertical-align: middle;\n",
              "    }\n",
              "\n",
              "    .dataframe tbody tr th {\n",
              "        vertical-align: top;\n",
              "    }\n",
              "\n",
              "    .dataframe thead th {\n",
              "        text-align: right;\n",
              "    }\n",
              "</style>\n",
              "<table border=\"1\" class=\"dataframe\">\n",
              "  <thead>\n",
              "    <tr style=\"text-align: right;\">\n",
              "      <th></th>\n",
              "    </tr>\n",
              "  </thead>\n",
              "  <tbody>\n",
              "  </tbody>\n",
              "</table>\n",
              "</div>"
            ],
            "text/plain": [
              "Empty DataFrame\n",
              "Columns: []\n",
              "Index: []"
            ]
          },
          "metadata": {
            "tags": []
          },
          "execution_count": 84
        }
      ]
    },
    {
      "cell_type": "code",
      "metadata": {
        "id": "bOhVHB_8VBdH",
        "outputId": "6437abce-f05b-41c9-cf60-e3faf44d08b9",
        "colab": {
          "base_uri": "https://localhost:8080/",
          "height": 286
        }
      },
      "source": [
        "my_hand = X_test[0]\n",
        "show_img(0, X_test, Y_cat_test)"
      ],
      "execution_count": 75,
      "outputs": [
        {
          "output_type": "display_data",
          "data": {
            "image/png": "[encoded data removed]",
            "text/plain": [
              "<Figure size 432x288 with 1 Axes>"
            ]
          },
          "metadata": {
            "tags": [],
            "needs_background": "light"
          }
        },
        {
          "output_type": "stream",
          "text": [
            "Polish letter M\n"
          ],
          "name": "stdout"
        }
      ]
    },
    {
      "cell_type": "code",
      "metadata": {
        "id": "Y3AUJxpIW5or",
        "outputId": "883a82b4-7334-4b46-9aeb-81555703f2cf",
        "colab": {
          "base_uri": "https://localhost:8080/"
        }
      },
      "source": [
        "#CNN.predict_classes(my_hand.reshape(1, 131, 174, 3))\n",
        "my_hand = my_hand.reshape(1, 131, 174, 3)\n",
        "result = CNN.predict_classes(my_hand)\n",
        "# result = np.argmax(CNN.predict(my_hand.reshape(1, 131, 174, 3)), axis=-1)\n",
        "result = int(result)\n",
        "print('CNN says: ' + class_names[result])"
      ],
      "execution_count": 86,
      "outputs": [
        {
          "output_type": "stream",
          "text": [
            "CNN says: Polish letter N\n"
          ],
          "name": "stdout"
        }
      ]
    },
    {
      "cell_type": "code",
      "metadata": {
        "id": "e1CCpmyR-o_O"
      },
      "source": [
        "predictions = CNN.predict_classes(X_test)"
      ],
      "execution_count": 77,
      "outputs": []
    },
    {
      "cell_type": "code",
      "metadata": {
        "id": "Zv3EpAC2XDKz",
        "outputId": "afedbb81-78ce-4251-a086-e5960350e6ca",
        "colab": {
          "base_uri": "https://localhost:8080/"
        }
      },
      "source": [
        "print(classification_report(Y_test,predictions))"
      ],
      "execution_count": 79,
      "outputs": [
        {
          "output_type": "stream",
          "text": [
            "              precision    recall  f1-score   support\n",
            "\n",
            "           0       0.00      0.00      0.00         2\n",
            "           1       0.50      0.40      0.44         5\n",
            "           2       0.00      0.00      0.00         6\n",
            "           3       0.75      0.38      0.50         8\n",
            "           4       0.20      0.60      0.30         5\n",
            "           5       0.29      0.29      0.29         7\n",
            "           6       0.09      0.50      0.15         4\n",
            "           7       0.14      0.40      0.21         5\n",
            "           8       0.00      0.00      0.00         8\n",
            "           9       0.22      0.40      0.29         5\n",
            "          10       0.00      0.00      0.00         8\n",
            "          11       0.27      0.38      0.32         8\n",
            "          12       0.00      0.00      0.00         6\n",
            "          13       0.20      0.17      0.18         6\n",
            "          14       0.20      0.25      0.22         4\n",
            "          15       0.50      0.25      0.33         4\n",
            "          16       0.00      0.00      0.00         9\n",
            "          17       0.13      0.33      0.19         6\n",
            "          18       0.00      0.00      0.00         6\n",
            "          19       0.40      0.29      0.33         7\n",
            "          20       0.11      0.29      0.16         7\n",
            "          21       0.33      0.20      0.25        10\n",
            "          22       0.11      0.17      0.13         6\n",
            "          23       1.00      0.50      0.67         8\n",
            "          24       0.50      0.33      0.40        15\n",
            "          25       1.00      0.11      0.20         9\n",
            "          26       0.00      0.00      0.00         6\n",
            "\n",
            "    accuracy                           0.23       180\n",
            "   macro avg       0.26      0.23      0.21       180\n",
            "weighted avg       0.29      0.23      0.22       180\n",
            "\n"
          ],
          "name": "stdout"
        },
        {
          "output_type": "stream",
          "text": [
            "/usr/local/lib/python3.6/dist-packages/sklearn/metrics/_classification.py:1272: UndefinedMetricWarning: Precision and F-score are ill-defined and being set to 0.0 in labels with no predicted samples. Use `zero_division` parameter to control this behavior.\n",
            "  _warn_prf(average, modifier, msg_start, len(result))\n"
          ],
          "name": "stderr"
        }
      ]
    },
    {
      "cell_type": "code",
      "metadata": {
        "id": "mAVH-aNsDY0F"
      },
      "source": [
        ""
      ],
      "execution_count": 74,
      "outputs": []
    }
  ]
}