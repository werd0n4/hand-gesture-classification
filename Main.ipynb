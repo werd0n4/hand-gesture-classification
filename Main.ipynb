{
  "nbformat": 4,
  "nbformat_minor": 0,
  "metadata": {
    "colab": {
      "name": "Main.ipynb",
      "provenance": [],
      "collapsed_sections": [],
      "toc_visible": true,
      "authorship_tag": "ABX9TyO8UqzD0qgaFX/HbeqicKNs"
    },
    "kernelspec": {
      "name": "python3",
      "display_name": "Python 3"
    },
    "accelerator": "GPU"
  },
  "cells": [
    {
      "cell_type": "markdown",
      "metadata": {
        "id": "WWV-fQOYLdCT"
      },
      "source": [
        "# Import libraries\n",
        "\n",
        "---\n"
      ]
    },
    {
      "cell_type": "code",
      "metadata": {
        "id": "5q8kzcXXwFg7",
        "outputId": "15ddfca4-b981-45d8-fadf-d7a0b4cf00c9",
        "colab": {
          "base_uri": "https://localhost:8080/"
        }
      },
      "source": [
        "from google.colab import drive\n",
        "drive.mount(\"/content/drive\")"
      ],
      "execution_count": 23,
      "outputs": [
        {
          "output_type": "stream",
          "text": [
            "Drive already mounted at /content/drive; to attempt to forcibly remount, call drive.mount(\"/content/drive\", force_remount=True).\n"
          ],
          "name": "stdout"
        }
      ]
    },
    {
      "cell_type": "code",
      "metadata": {
        "id": "8XymGlouwU2-",
        "outputId": "44effe74-612c-4794-c9d6-7d464534e185",
        "colab": {
          "base_uri": "https://localhost:8080/"
        }
      },
      "source": [
        "!ls\n",
        "!cat /proc/cpuinfo\n",
        "!cat /proc/meminfo\n",
        "!nvidia-smi"
      ],
      "execution_count": 24,
      "outputs": [
        {
          "output_type": "stream",
          "text": [
            "drive  sample_data\n",
            "processor\t: 0\n",
            "vendor_id\t: GenuineIntel\n",
            "cpu family\t: 6\n",
            "model\t\t: 79\n",
            "model name\t: Intel(R) Xeon(R) CPU @ 2.20GHz\n",
            "stepping\t: 0\n",
            "microcode\t: 0x1\n",
            "cpu MHz\t\t: 2200.000\n",
            "cache size\t: 56320 KB\n",
            "physical id\t: 0\n",
            "siblings\t: 2\n",
            "core id\t\t: 0\n",
            "cpu cores\t: 1\n",
            "apicid\t\t: 0\n",
            "initial apicid\t: 0\n",
            "fpu\t\t: yes\n",
            "fpu_exception\t: yes\n",
            "cpuid level\t: 13\n",
            "wp\t\t: yes\n",
            "flags\t\t: fpu vme de pse tsc msr pae mce cx8 apic sep mtrr pge mca cmov pat pse36 clflush mmx fxsr sse sse2 ss ht syscall nx pdpe1gb rdtscp lm constant_tsc rep_good nopl xtopology nonstop_tsc cpuid tsc_known_freq pni pclmulqdq ssse3 fma cx16 pcid sse4_1 sse4_2 x2apic movbe popcnt aes xsave avx f16c rdrand hypervisor lahf_lm abm 3dnowprefetch invpcid_single ssbd ibrs ibpb stibp fsgsbase tsc_adjust bmi1 hle avx2 smep bmi2 erms invpcid rtm rdseed adx smap xsaveopt arat md_clear arch_capabilities\n",
            "bugs\t\t: cpu_meltdown spectre_v1 spectre_v2 spec_store_bypass l1tf mds swapgs taa\n",
            "bogomips\t: 4400.00\n",
            "clflush size\t: 64\n",
            "cache_alignment\t: 64\n",
            "address sizes\t: 46 bits physical, 48 bits virtual\n",
            "power management:\n",
            "\n",
            "processor\t: 1\n",
            "vendor_id\t: GenuineIntel\n",
            "cpu family\t: 6\n",
            "model\t\t: 79\n",
            "model name\t: Intel(R) Xeon(R) CPU @ 2.20GHz\n",
            "stepping\t: 0\n",
            "microcode\t: 0x1\n",
            "cpu MHz\t\t: 2200.000\n",
            "cache size\t: 56320 KB\n",
            "physical id\t: 0\n",
            "siblings\t: 2\n",
            "core id\t\t: 0\n",
            "cpu cores\t: 1\n",
            "apicid\t\t: 1\n",
            "initial apicid\t: 1\n",
            "fpu\t\t: yes\n",
            "fpu_exception\t: yes\n",
            "cpuid level\t: 13\n",
            "wp\t\t: yes\n",
            "flags\t\t: fpu vme de pse tsc msr pae mce cx8 apic sep mtrr pge mca cmov pat pse36 clflush mmx fxsr sse sse2 ss ht syscall nx pdpe1gb rdtscp lm constant_tsc rep_good nopl xtopology nonstop_tsc cpuid tsc_known_freq pni pclmulqdq ssse3 fma cx16 pcid sse4_1 sse4_2 x2apic movbe popcnt aes xsave avx f16c rdrand hypervisor lahf_lm abm 3dnowprefetch invpcid_single ssbd ibrs ibpb stibp fsgsbase tsc_adjust bmi1 hle avx2 smep bmi2 erms invpcid rtm rdseed adx smap xsaveopt arat md_clear arch_capabilities\n",
            "bugs\t\t: cpu_meltdown spectre_v1 spectre_v2 spec_store_bypass l1tf mds swapgs taa\n",
            "bogomips\t: 4400.00\n",
            "clflush size\t: 64\n",
            "cache_alignment\t: 64\n",
            "address sizes\t: 46 bits physical, 48 bits virtual\n",
            "power management:\n",
            "\n",
            "MemTotal:       13333580 kB\n",
            "MemFree:         6693764 kB\n",
            "MemAvailable:   10659228 kB\n",
            "Buffers:           79532 kB\n",
            "Cached:          3242760 kB\n",
            "SwapCached:            0 kB\n",
            "Active:          2382660 kB\n",
            "Inactive:        3841052 kB\n",
            "Active(anon):    2067588 kB\n",
            "Inactive(anon):    14688 kB\n",
            "Active(file):     315072 kB\n",
            "Inactive(file):  3826364 kB\n",
            "Unevictable:           0 kB\n",
            "Mlocked:               0 kB\n",
            "SwapTotal:             0 kB\n",
            "SwapFree:              0 kB\n",
            "Dirty:             28928 kB\n",
            "Writeback:             0 kB\n",
            "AnonPages:       2901492 kB\n",
            "Mapped:           785292 kB\n",
            "Shmem:             15296 kB\n",
            "Slab:             177596 kB\n",
            "SReclaimable:     129916 kB\n",
            "SUnreclaim:        47680 kB\n",
            "KernelStack:        4912 kB\n",
            "PageTables:        13924 kB\n",
            "NFS_Unstable:          0 kB\n",
            "Bounce:                0 kB\n",
            "WritebackTmp:          0 kB\n",
            "CommitLimit:     6666788 kB\n",
            "Committed_AS:    5695144 kB\n",
            "VmallocTotal:   34359738367 kB\n",
            "VmallocUsed:           0 kB\n",
            "VmallocChunk:          0 kB\n",
            "Percpu:              952 kB\n",
            "AnonHugePages:     96256 kB\n",
            "ShmemHugePages:        0 kB\n",
            "ShmemPmdMapped:        0 kB\n",
            "HugePages_Total:       0\n",
            "HugePages_Free:        0\n",
            "HugePages_Rsvd:        0\n",
            "HugePages_Surp:        0\n",
            "Hugepagesize:       2048 kB\n",
            "Hugetlb:               0 kB\n",
            "DirectMap4k:      179432 kB\n",
            "DirectMap2M:     5062656 kB\n",
            "DirectMap1G:    10485760 kB\n",
            "Thu Nov 12 17:27:11 2020       \n",
            "+-----------------------------------------------------------------------------+\n",
            "| NVIDIA-SMI 455.32.00    Driver Version: 418.67       CUDA Version: 10.1     |\n",
            "|-------------------------------+----------------------+----------------------+\n",
            "| GPU  Name        Persistence-M| Bus-Id        Disp.A | Volatile Uncorr. ECC |\n",
            "| Fan  Temp  Perf  Pwr:Usage/Cap|         Memory-Usage | GPU-Util  Compute M. |\n",
            "|                               |                      |               MIG M. |\n",
            "|===============================+======================+======================|\n",
            "|   0  Tesla T4            Off  | 00000000:00:04.0 Off |                    0 |\n",
            "| N/A   52C    P0    28W /  70W |   7271MiB / 15079MiB |      0%      Default |\n",
            "|                               |                      |                 ERR! |\n",
            "+-------------------------------+----------------------+----------------------+\n",
            "                                                                               \n",
            "+-----------------------------------------------------------------------------+\n",
            "| Processes:                                                                  |\n",
            "|  GPU   GI   CI        PID   Type   Process name                  GPU Memory |\n",
            "|        ID   ID                                                   Usage      |\n",
            "|=============================================================================|\n",
            "|  No running processes found                                                 |\n",
            "+-----------------------------------------------------------------------------+\n"
          ],
          "name": "stdout"
        }
      ]
    },
    {
      "cell_type": "code",
      "metadata": {
        "id": "mBEyz2mvZcZe"
      },
      "source": [
        "import pandas as pd\n",
        "import numpy as np\n",
        "import seaborn as sns\n",
        "\n",
        "from tensorflow.keras.models import Sequential\n",
        "from tensorflow.keras.layers import Dense, Conv2D, MaxPool2D, Flatten, Dropout\n",
        "from tensorflow.keras.callbacks import EarlyStopping\n",
        "from tensorflow.keras.utils import to_categorical\n",
        "from tensorflow.keras.preprocessing.image import ImageDataGenerator\n",
        "from tensorflow.keras.models import load_model\n",
        "from tensorflow.keras import initializers\n",
        "from tensorflow.keras.optimizers import SGD\n",
        "from tensorflow.keras import regularizers\n",
        "from tensorflow.keras.preprocessing import image\n",
        "\n",
        "from sklearn.model_selection import train_test_split\n",
        "from sklearn.metrics import classification_report, confusion_matrix\n",
        "\n",
        "import os\n",
        "import cv2\n",
        "import glob\n",
        "import random\n",
        "import math\n",
        "from matplotlib import pyplot as plt"
      ],
      "execution_count": 119,
      "outputs": []
    },
    {
      "cell_type": "markdown",
      "metadata": {
        "id": "0ljCHYlFLKus"
      },
      "source": [
        "# Constant parameters\n",
        "\n",
        "---\n",
        "\n"
      ]
    },
    {
      "cell_type": "code",
      "metadata": {
        "id": "PgEIncCL4j8i"
      },
      "source": [
        "# horiz_x = 800  \n",
        "# vert_y = 600\n",
        "horiz_x = 640  \n",
        "vert_y = 480\n",
        "batch_size = 16\n",
        "image_shape = (horiz_x, vert_y, 3)\n",
        "model_path = '/content/drive/My Drive/Colab Notebooks/Zapisane modele/hand_gesture_classifier.h5'\n",
        "\n",
        "#drive paths\n",
        "#\n",
        "# imgs_train_path = '/content/drive/My Drive/Colab Notebooks/Rozszerzony_dataset/Train/'\n",
        "# imgs_test_path = '/content/drive/My Drive/Colab Notebooks/Rozszerzony_dataset/Test/'\n",
        "#local paths windows\n",
        "#\n",
        "# imgs_train_path = 'C:\\\\Users\\\\Werdon\\\\Google Drive\\\\Colab Notebooks\\\\Rozszerzony_dataset\\\\Train'\n",
        "# imgs_test_path = 'C:\\\\Users\\\\Werdon\\\\Google Drive\\\\Colab Notebooks\\\\Rozszerzony_dataset\\\\Train'\n",
        "#local paths manjaro\n",
        "#\n",
        "# imgs_train_path = '/home/werdon4/Rozszerzony_dataset/Train'\n",
        "# imgs_test_path = '/home/werdon4/Rozszerzony_dataset/Test'\n",
        "\n",
        "#skin data set\n",
        "imgs_train_path = '/content/drive/My Drive/Colab Notebooks/skin dataset/Train/'\n",
        "imgs_test_path = '/content/drive/My Drive/Colab Notebooks/skin dataset/Test/'\n",
        "\n"
      ],
      "execution_count": 26,
      "outputs": []
    },
    {
      "cell_type": "code",
      "metadata": {
        "id": "D4fPPXAU7hhc"
      },
      "source": [
        "\n",
        "# class_names = {\n",
        "#     0: \"1\",\n",
        "#     1: \"2\",\n",
        "#     2: \"3\",\n",
        "#     3: \"4\",\n",
        "#     4: \"5\",\n",
        "#     5: \"A\",\n",
        "#     6: \"B\",\n",
        "#     7: \"C\",\n",
        "#     8: \"D\",\n",
        "#     9: \"E\",\n",
        "#     10: \"F\",\n",
        "#     11: \"G\",\n",
        "#     12: \"H\",\n",
        "#     13: \"I\",\n",
        "#     14: \"K\",\n",
        "#     15: \"L\",\n",
        "#     16: \"M\",\n",
        "#     17: \"N\",\n",
        "#     18: \"O\",\n",
        "#     19: \"P\",\n",
        "#     20: \"R\",\n",
        "#     21: \"S\",\n",
        "#     22: \"T\",\n",
        "#     23: \"U\",\n",
        "#     24: \"W\",\n",
        "#     25: \"Y\",\n",
        "#     26: \"Z\"\n",
        "# }\n",
        "\n",
        "class_names = {\n",
        "    0: \"1\",\n",
        "    1: \"2\",\n",
        "    2: \"3\",\n",
        "    3: \"4\",\n",
        "    4: \"5\",\n",
        "    # 5: \"A\",\n",
        "    # 6: \"B\",\n",
        "    # 7: \"C\",\n",
        "    # 8: \"E\",\n",
        "    # 9: \"F\",\n",
        "    # 10: \"H\",\n",
        "    # 11: \"K\",\n",
        "    # 12: \"N\",\n",
        "    # 13: \"O\",\n",
        "    # 14: \"R\",\n",
        "    # 15: \"S\",\n",
        "    # 16: \"U\",\n",
        "    # 17: \"W\",\n",
        "    # 18: \"Y\",\n",
        "    # 19: \"Z\"\n",
        "}"
      ],
      "execution_count": 27,
      "outputs": []
    },
    {
      "cell_type": "markdown",
      "metadata": {
        "id": "ixFACs6TLptD"
      },
      "source": [
        "# Auxiliary functions\n",
        "\n",
        "---\n"
      ]
    },
    {
      "cell_type": "markdown",
      "metadata": {
        "id": "1wS1Y3LhdoCk"
      },
      "source": [
        "## Image resize"
      ]
    },
    {
      "cell_type": "code",
      "metadata": {
        "id": "1WA7zKkLxRZk"
      },
      "source": [
        "def img_counter(path):\n",
        "    img_counter = 0\n",
        "\n",
        "    for dirname in os.listdir(path): \n",
        "        img_counter += len(os.listdir(os.path.join(path, dirname)))\n",
        "\n",
        "    print(\"Images in set: \" + str(img_counter))\n",
        "    return img_counter\n",
        "\n",
        "\n",
        "def resize(path):\n",
        "    img_counter = 0\n",
        "\n",
        "    for dirname in os.listdir(path): \n",
        "        for filename in os.listdir(os.path.join(path, dirname)):\n",
        "            image_path = os.path.join(path, dirname, filename)\n",
        "            img = cv2.imread(image_path)\n",
        "            resized_img = cv2.resize(img, (horiz_x, vert_y))\n",
        "            cv2.imwrite(image_path, resized_img)\n",
        "            img_counter += 1\n",
        "    \n",
        "    print('Images in set: ' + str(img_counter))\n"
      ],
      "execution_count": 133,
      "outputs": []
    },
    {
      "cell_type": "markdown",
      "metadata": {
        "id": "Xlo-plFYdu3g"
      },
      "source": [
        "## Image size sanity check"
      ]
    },
    {
      "cell_type": "code",
      "metadata": {
        "id": "D_RAtl1TrwJL"
      },
      "source": [
        "\n",
        "def sanity_check(path):\n",
        "    counter = 0\n",
        "\n",
        "    for dirname in os.listdir(path): \n",
        "        for filename in os.listdir(os.path.join(path, dirname)):\n",
        "            image_path = os.path.join(path, dirname, filename)\n",
        "            img = cv2.imread(image_path)\n",
        "            if img.shape != (horiz_x, vert_y, 3):\n",
        "                counter += 1\n",
        "\n",
        "    print('Sanity result: ' + str(counter))"
      ],
      "execution_count": 29,
      "outputs": []
    },
    {
      "cell_type": "code",
      "metadata": {
        "id": "at3uxTKnHvKr"
      },
      "source": [
        "\n",
        "# def show_img(index, X, Y):\n",
        "#     # plt.imshow(X[index])\n",
        "#     plt.imshow(cv2.cvtColor(X[index],cv2.COLOR_BGR2RGB).astype('float32'))\n",
        "#     plt.show()\n",
        "#     nmb = int(np.where(Y[index] == 1)[0])\n",
        "#     print(\"On image: \" + class_names[nmb])\n",
        "\n",
        "def show_img(i, path):\n",
        "    testlist = glob.glob(f'{path}/*/*')\n",
        "    img = cv2.normalize(cv2.imread(testlist[i]), None, alpha=0, beta=1, norm_type=cv2.NORM_MINMAX, dtype=cv2.CV_32F)\n",
        "    plt.imshow(cv2.cvtColor(img, cv2.COLOR_BGR2RGB).astype('float32'))\n",
        "    plt.show()\n",
        "    label = testlist[i].split('/')[7]\n",
        "    label = label.split('_')[1]\n",
        "    print(\"Gesture: \" + str(label))\n",
        "\n",
        "    return img\n",
        "\n",
        "# show_img(100)\n"
      ],
      "execution_count": 106,
      "outputs": []
    },
    {
      "cell_type": "markdown",
      "metadata": {
        "id": "sXO5S6_IL1Rp"
      },
      "source": [
        "## Load dataset"
      ]
    },
    {
      "cell_type": "code",
      "metadata": {
        "id": "GKpUsMrA4gkt"
      },
      "source": [
        "\n",
        "def load_dataset():\n",
        "    trainlist = glob.glob(f'{imgs_train_path}/*/*')\n",
        "    testlist = glob.glob(f'{imgs_test_path}/*/*')\n",
        "    X_train = np.array( [np.array(cv2.normalize(cv2.imread(fname), None, alpha=0, beta=1, norm_type=cv2.NORM_MINMAX, dtype=cv2.CV_32F)) for fname in trainlist] )\n",
        "    X_test = np.array( [np.array(cv2.normalize(cv2.imread(fname), None, alpha=0, beta=1, norm_type=cv2.NORM_MINMAX, dtype=cv2.CV_32F)) for fname in testlist] )\n",
        "\n",
        "    # Y_train = np.array([np.zeros(27) for fname in trainlist])\n",
        "    Y_train = np.array([0 for fname in trainlist])\n",
        "    for i,fname in enumerate(trainlist):\n",
        "        # print(fname)\n",
        "        img_id = fname.split('/')[7]##7 if windows 4 if manjaro\n",
        "        img_id = img_id.split('_')[0]\n",
        "        # Y_train[i][img_id] = 1\n",
        "        Y_train[i] = img_id\n",
        "\n",
        "\n",
        "    # Y_test = np.array([np.zeros(27) for fname in testlist])\n",
        "    Y_test = np.array([0 for fname in testlist])\n",
        "    for i,fname in enumerate(testlist):\n",
        "        img_id = fname.split('/')[7]\n",
        "        img_id = img_id.split('_')[0]\n",
        "        # Y_test[i][img_id] = 1\n",
        "        Y_test[i] = img_id\n",
        "\n",
        "    return X_train, Y_train, X_test, Y_test\n",
        "\n",
        "# load_dataset()\n"
      ],
      "execution_count": 31,
      "outputs": []
    },
    {
      "cell_type": "markdown",
      "metadata": {
        "id": "52QUbDo5L9OC"
      },
      "source": [
        "# Create network model"
      ]
    },
    {
      "cell_type": "code",
      "metadata": {
        "id": "GGL1a8P5W1Ku"
      },
      "source": [
        "\n",
        "# def create_model():\n",
        "model = Sequential()\n",
        "# kernel_initializer = initializers.RandomNormal(mean=0.0, stddev=0.05, seed=None)\n",
        "# kernel_initializer=None \n",
        "# initializer = initializers.GlorotUniform(seed=10)\n",
        "initializer = None\n",
        "# regularizer = regularizers.l2(l2=0.01)\n",
        "regularizer = None\n",
        "activ_func = 'relu'\n",
        "# kernel_regularizer=None\n",
        "# activity_regularizer=None\n",
        "\n",
        "# CONVOLUTIONAL LAYER - 1\n",
        "model.add(Conv2D(\n",
        "    filters=6, \n",
        "    kernel_size=(5,5), \n",
        "    input_shape=(vert_y, horiz_x, 3), \n",
        "    activation=activ_func,\n",
        "    kernel_initializer=initializer,\n",
        "    bias_initializer=initializer,\n",
        "    kernel_regularizer=regularizer,\n",
        "    bias_regularizer=regularizer\n",
        "    # activity_regularizer=activity_regularizer\n",
        "))\n",
        "# CONVOLUTIONAL LAYER - 1\n",
        "model.add(Conv2D(\n",
        "    filters=6, \n",
        "    kernel_size=(5,5), \n",
        "    input_shape=(vert_y, horiz_x, 3), \n",
        "    activation=activ_func,\n",
        "    kernel_initializer=initializer,\n",
        "    bias_initializer=initializer,\n",
        "    kernel_regularizer=regularizer,\n",
        "    bias_regularizer=regularizer\n",
        "    # activity_regularizer=activity_regularizer\n",
        "))\n",
        "\n",
        "# POOLING LAYER - 1\n",
        "model.add(MaxPool2D(\n",
        "    pool_size=(2,2),\n",
        "    strides=(2,2)\n",
        "))\n",
        "\n",
        "# CONVOLUTIONAL LAYER - 2\n",
        "model.add(Conv2D(\n",
        "    filters=16, \n",
        "    kernel_size=(3,3), \n",
        "    activation=activ_func,\n",
        "    kernel_initializer=initializer,\n",
        "    bias_initializer=initializer,\n",
        "    kernel_regularizer=regularizer,\n",
        "    bias_regularizer=regularizer\n",
        "    # activity_regularizer=activity_regularizer\n",
        "))\n",
        "# CONVOLUTIONAL LAYER - 2\n",
        "model.add(Conv2D(\n",
        "    filters=16, \n",
        "    kernel_size=(3,3), \n",
        "    activation=activ_func,\n",
        "    kernel_initializer=initializer,\n",
        "    bias_initializer=initializer,\n",
        "    kernel_regularizer=regularizer,\n",
        "    bias_regularizer=regularizer\n",
        "    # activity_regularizer=activity_regularizer\n",
        "))\n",
        "\n",
        "# POOLING LAYER - 2\n",
        "model.add(MaxPool2D(\n",
        "    pool_size=(2,2),\n",
        "    strides=(2,2)\n",
        "))\n",
        "\n",
        "# CONVOLUTIONAL LAYER - 3\n",
        "model.add(Conv2D(\n",
        "    filters=32, \n",
        "    kernel_size=(3,3), \n",
        "    activation=activ_func,\n",
        "    kernel_initializer=initializer,\n",
        "    bias_initializer=initializer,\n",
        "    kernel_regularizer=regularizer,\n",
        "    bias_regularizer=regularizer\n",
        "    # activity_regularizer=activity_regularizer\n",
        "))\n",
        "\n",
        "# POOLING LAYER - 3\n",
        "model.add(MaxPool2D(\n",
        "    pool_size=(2,2),\n",
        "    strides=(2,2)\n",
        "))\n",
        "\n",
        "# CONVOLUTIONAL LAYER - 4\n",
        "model.add(Conv2D(\n",
        "    filters=60, \n",
        "    kernel_size=(3,3), \n",
        "    activation=activ_func,\n",
        "    kernel_initializer=initializer,\n",
        "    bias_initializer=initializer,\n",
        "    kernel_regularizer=regularizer,\n",
        "    bias_regularizer=regularizer\n",
        "    # activity_regularizer=activity_regularizer\n",
        "))\n",
        "\n",
        "# POOLING LAYER - 4\n",
        "model.add(MaxPool2D(\n",
        "    pool_size=(2,2),\n",
        "    strides=(2,2)\n",
        "))\n",
        "\n",
        "# CONVOLUTIONAL LAYER - 5\n",
        "model.add(Conv2D(\n",
        "    filters=120, \n",
        "    kernel_size=(3,3), \n",
        "    activation=activ_func,\n",
        "    kernel_initializer=initializer,\n",
        "    bias_initializer=initializer,\n",
        "    kernel_regularizer=regularizer,\n",
        "    bias_regularizer=regularizer\n",
        "    # activity_regularizer=activity_regularizer\n",
        "))\n",
        "\n",
        "# POOLING LAYER - 5\n",
        "model.add(MaxPool2D(\n",
        "    pool_size=(2,2),\n",
        "    strides=(2,2)\n",
        "))\n",
        "\n",
        "######## FLATTEN ########\n",
        "model.add(Flatten())\n",
        "model.add(Dense(128, activation='relu'))\n",
        "model.add(Dropout(0.5))\n",
        "# model.add(Dense(64, activation='relu'))\n",
        "# model.add(Dropout(0.5))\n",
        "# model.add(Dense(32, activation='relu'))\n",
        "# model.add(Dropout(0.5))\n",
        "model.add(Dense(5, activation='softmax'))\n",
        "\n",
        "model.compile(\n",
        "    loss='categorical_crossentropy',\n",
        "    # optimizer='adam', \n",
        "    # optimizer=SGD(lr=0.01),\n",
        "    optimizer='rmsprop',\n",
        "    metrics=['accuracy']\n",
        ")\n",
        "\n",
        "    # return model\n"
      ],
      "execution_count": 32,
      "outputs": []
    },
    {
      "cell_type": "markdown",
      "metadata": {
        "id": "8aR-plpcMYMG"
      },
      "source": [
        "# Loading dataset\n",
        "\n",
        "---\n"
      ]
    },
    {
      "cell_type": "markdown",
      "metadata": {
        "id": "c60j15t047-T"
      },
      "source": [
        "## Resize images and do sanity check"
      ]
    },
    {
      "cell_type": "code",
      "metadata": {
        "id": "Xe0BVKLffdt3",
        "outputId": "bb69d464-67ce-4d98-ccda-04d1919c56b9",
        "colab": {
          "base_uri": "https://localhost:8080/"
        }
      },
      "source": [
        "# Uncomment before first run on dataset \n",
        "# resize(imgs_train_path)\n",
        "# sanity_check(imgs_train_path)\n",
        "# resize(imgs_test_path)\n",
        "# sanity_check(imgs_test_path)\n",
        "train_set_size = img_counter(imgs_train_path)\n",
        "test_set_size = img_counter(imgs_test_path)\n"
      ],
      "execution_count": 134,
      "outputs": [
        {
          "output_type": "stream",
          "text": [
            "Images in set: 1062\n",
            "Images in set: 100\n"
          ],
          "name": "stdout"
        }
      ]
    },
    {
      "cell_type": "markdown",
      "metadata": {
        "id": "4V9sG1BcYIrF"
      },
      "source": [
        "## Load dataset to host memory"
      ]
    },
    {
      "cell_type": "code",
      "metadata": {
        "id": "r3YGc40zMT07"
      },
      "source": [
        "# X_train, Y_train, X_test, Y_test = load_dataset()"
      ],
      "execution_count": 34,
      "outputs": []
    },
    {
      "cell_type": "markdown",
      "metadata": {
        "id": "NZs3NgT2YN_N"
      },
      "source": [
        "## Convert labels to one hot encoding"
      ]
    },
    {
      "cell_type": "code",
      "metadata": {
        "id": "j2_6niPw-o-I"
      },
      "source": [
        "# Y_cat_train = to_categorical(Y_train, 27)\n",
        "# Y_cat_test = to_categorical(Y_test, 27)"
      ],
      "execution_count": 35,
      "outputs": []
    },
    {
      "cell_type": "markdown",
      "metadata": {
        "id": "AZbm9XBKCPtn"
      },
      "source": [
        "## Data augumentation"
      ]
    },
    {
      "cell_type": "markdown",
      "metadata": {
        "id": "lRThxI7Y8qKw"
      },
      "source": [
        "## Initializing ImageDataGenerator class"
      ]
    },
    {
      "cell_type": "code",
      "metadata": {
        "id": "s0PtMORrCPDN"
      },
      "source": [
        "image_gen = ImageDataGenerator(rotation_range=5, # rotate the image 20 degrees\n",
        "                               width_shift_range=0.05, # Shift the pic width by a max of 5%\n",
        "                               height_shift_range=0.05, # Shift the pic height by a max of 5%\n",
        "                            #    rescale=1./255, # Rescale the image by normalzing it.\n",
        "                               shear_range=0.05, # Shear means cutting away part of the image (max 10%)\n",
        "                               zoom_range=0.05, # Zoom in by 10% max\n",
        "                               fill_mode='nearest' # Fill in missing pixels with the nearest filled value\n",
        "                                )\n",
        "                              "
      ],
      "execution_count": 36,
      "outputs": []
    },
    {
      "cell_type": "markdown",
      "metadata": {
        "id": "ryU4cvqRuDJL"
      },
      "source": [
        "## Augumentation sample result"
      ]
    },
    {
      "cell_type": "code",
      "metadata": {
        "id": "u2dLQoeLEgOq"
      },
      "source": [
        "#original img\n",
        "# nmb = random.randint(0, 296)\n",
        "# my_hand = X_test[nmb]\n",
        "# show_img(nmb, X_test, Y_cat_test)\n",
        "\n",
        "# #generated img\n",
        "# gen_img = image_gen.random_transform(my_hand)\n",
        "# print(\"Generated image\")\n",
        "# plt.imshow(cv2.cvtColor(gen_img,cv2.COLOR_BGR2RGB).astype('float32'))\n",
        "# plt.show()\n",
        "\n",
        "# comparison = my_hand == gen_img\n",
        "# equal_arrays = comparison.all()\n",
        "# print(\"Images are equal?: \" + str(equal_arrays))"
      ],
      "execution_count": 37,
      "outputs": []
    },
    {
      "cell_type": "markdown",
      "metadata": {
        "id": "BnjTP4lG82TX"
      },
      "source": [
        "## Initializing test and train image geneartors"
      ]
    },
    {
      "cell_type": "code",
      "metadata": {
        "id": "Re4ZJ1TZTm4o",
        "outputId": "ea9af8ef-7eff-4143-bb63-020892414dca",
        "colab": {
          "base_uri": "https://localhost:8080/"
        }
      },
      "source": [
        "train_image_gen = image_gen.flow_from_directory(imgs_train_path,\n",
        "                                               target_size=image_shape[:2],\n",
        "                                                color_mode='rgb',\n",
        "                                               batch_size=batch_size,\n",
        "                                               class_mode='categorical')"
      ],
      "execution_count": 38,
      "outputs": [
        {
          "output_type": "stream",
          "text": [
            "Found 1062 images belonging to 5 classes.\n"
          ],
          "name": "stdout"
        }
      ]
    },
    {
      "cell_type": "code",
      "metadata": {
        "id": "PrWwYpgUTm4r",
        "outputId": "b3db54a4-a5da-44d3-c656-21c1235fae5b",
        "colab": {
          "base_uri": "https://localhost:8080/"
        }
      },
      "source": [
        "test_image_gen = image_gen.flow_from_directory(imgs_test_path,\n",
        "                                               target_size=image_shape[:2],\n",
        "                                               color_mode='rgb',\n",
        "                                               batch_size=batch_size,\n",
        "                                               class_mode='categorical',shuffle=False)"
      ],
      "execution_count": 39,
      "outputs": [
        {
          "output_type": "stream",
          "text": [
            "Found 100 images belonging to 5 classes.\n"
          ],
          "name": "stdout"
        }
      ]
    },
    {
      "cell_type": "code",
      "metadata": {
        "id": "WdwaoT7yMuME",
        "outputId": "63ad9982-4bc8-448e-bf97-6e448195dee5",
        "colab": {
          "base_uri": "https://localhost:8080/"
        }
      },
      "source": [
        "train_image_gen.class_indices"
      ],
      "execution_count": 40,
      "outputs": [
        {
          "output_type": "execute_result",
          "data": {
            "text/plain": [
              "{'0_1': 0, '1_2': 1, '2_3': 2, '3_4': 3, '4_5': 4}"
            ]
          },
          "metadata": {
            "tags": []
          },
          "execution_count": 40
        }
      ]
    },
    {
      "cell_type": "markdown",
      "metadata": {
        "id": "LYxO9mzpMfAc"
      },
      "source": [
        "# Train model\n",
        "\n",
        "---\n"
      ]
    },
    {
      "cell_type": "code",
      "metadata": {
        "id": "tPcKT1LCpeaO",
        "outputId": "3dc3266b-bebf-44a7-f8ea-2bac5c64ff7d",
        "colab": {
          "base_uri": "https://localhost:8080/"
        }
      },
      "source": [
        "model.summary()"
      ],
      "execution_count": 41,
      "outputs": [
        {
          "output_type": "stream",
          "text": [
            "Model: \"sequential_1\"\n",
            "_________________________________________________________________\n",
            "Layer (type)                 Output Shape              Param #   \n",
            "=================================================================\n",
            "conv2d_7 (Conv2D)            (None, 476, 636, 6)       456       \n",
            "_________________________________________________________________\n",
            "conv2d_8 (Conv2D)            (None, 472, 632, 6)       906       \n",
            "_________________________________________________________________\n",
            "max_pooling2d_5 (MaxPooling2 (None, 236, 316, 6)       0         \n",
            "_________________________________________________________________\n",
            "conv2d_9 (Conv2D)            (None, 234, 314, 16)      880       \n",
            "_________________________________________________________________\n",
            "conv2d_10 (Conv2D)           (None, 232, 312, 16)      2320      \n",
            "_________________________________________________________________\n",
            "max_pooling2d_6 (MaxPooling2 (None, 116, 156, 16)      0         \n",
            "_________________________________________________________________\n",
            "conv2d_11 (Conv2D)           (None, 114, 154, 32)      4640      \n",
            "_________________________________________________________________\n",
            "max_pooling2d_7 (MaxPooling2 (None, 57, 77, 32)        0         \n",
            "_________________________________________________________________\n",
            "conv2d_12 (Conv2D)           (None, 55, 75, 60)        17340     \n",
            "_________________________________________________________________\n",
            "max_pooling2d_8 (MaxPooling2 (None, 27, 37, 60)        0         \n",
            "_________________________________________________________________\n",
            "conv2d_13 (Conv2D)           (None, 25, 35, 120)       64920     \n",
            "_________________________________________________________________\n",
            "max_pooling2d_9 (MaxPooling2 (None, 12, 17, 120)       0         \n",
            "_________________________________________________________________\n",
            "flatten_1 (Flatten)          (None, 24480)             0         \n",
            "_________________________________________________________________\n",
            "dense_2 (Dense)              (None, 128)               3133568   \n",
            "_________________________________________________________________\n",
            "dropout_1 (Dropout)          (None, 128)               0         \n",
            "_________________________________________________________________\n",
            "dense_3 (Dense)              (None, 5)                 645       \n",
            "=================================================================\n",
            "Total params: 3,225,675\n",
            "Trainable params: 3,225,675\n",
            "Non-trainable params: 0\n",
            "_________________________________________________________________\n"
          ],
          "name": "stdout"
        }
      ]
    },
    {
      "cell_type": "code",
      "metadata": {
        "id": "70Mj2Adg6WR6"
      },
      "source": [
        "early_stop = EarlyStopping(monitor='val_loss', patience=5)"
      ],
      "execution_count": 42,
      "outputs": []
    },
    {
      "cell_type": "markdown",
      "metadata": {
        "id": "SxzkZIjI8-SR"
      },
      "source": [
        "## Fit model"
      ]
    },
    {
      "cell_type": "code",
      "metadata": {
        "id": "dIhC9fdDfi5V"
      },
      "source": [
        "# model.fit(X_train, Y_cat_train, epochs=12, validation_data=(X_test, Y_cat_test), batch_size=batch_size, callbacks=[early_stop])"
      ],
      "execution_count": 43,
      "outputs": []
    },
    {
      "cell_type": "markdown",
      "metadata": {
        "id": "VbhE5_p19EkS"
      },
      "source": [
        "## Fit model with data augumentation"
      ]
    },
    {
      "cell_type": "code",
      "metadata": {
        "id": "u9OcwzpmM-Fw",
        "outputId": "0428ca80-fd38-425d-8515-5c2a41e97215",
        "colab": {
          "base_uri": "https://localhost:8080/"
        }
      },
      "source": [
        "results = model.fit(train_image_gen, epochs=64, validation_data=test_image_gen, verbose=2, callbacks=[early_stop])"
      ],
      "execution_count": 44,
      "outputs": [
        {
          "output_type": "stream",
          "text": [
            "Epoch 1/64\n",
            "67/67 - 350s - loss: 2.3283 - accuracy: 0.5009 - val_loss: 0.6785 - val_accuracy: 0.8200\n",
            "Epoch 2/64\n",
            "67/67 - 73s - loss: 0.6384 - accuracy: 0.7580 - val_loss: 0.2982 - val_accuracy: 0.8600\n",
            "Epoch 3/64\n",
            "67/67 - 72s - loss: 0.4590 - accuracy: 0.8267 - val_loss: 0.3652 - val_accuracy: 0.9200\n",
            "Epoch 4/64\n",
            "67/67 - 71s - loss: 0.3290 - accuracy: 0.8832 - val_loss: 0.2352 - val_accuracy: 0.9300\n",
            "Epoch 5/64\n",
            "67/67 - 70s - loss: 0.2393 - accuracy: 0.9162 - val_loss: 0.1703 - val_accuracy: 0.9500\n",
            "Epoch 6/64\n",
            "67/67 - 68s - loss: 0.2187 - accuracy: 0.9247 - val_loss: 0.0668 - val_accuracy: 0.9800\n",
            "Epoch 7/64\n",
            "67/67 - 67s - loss: 0.1547 - accuracy: 0.9529 - val_loss: 0.1240 - val_accuracy: 0.9600\n",
            "Epoch 8/64\n",
            "67/67 - 67s - loss: 0.1676 - accuracy: 0.9360 - val_loss: 0.1539 - val_accuracy: 0.9500\n",
            "Epoch 9/64\n",
            "67/67 - 67s - loss: 0.1017 - accuracy: 0.9586 - val_loss: 0.1410 - val_accuracy: 0.9700\n",
            "Epoch 10/64\n",
            "67/67 - 66s - loss: 0.1198 - accuracy: 0.9661 - val_loss: 0.0422 - val_accuracy: 0.9800\n",
            "Epoch 11/64\n",
            "67/67 - 66s - loss: 0.1287 - accuracy: 0.9614 - val_loss: 0.0409 - val_accuracy: 0.9900\n",
            "Epoch 12/64\n",
            "67/67 - 65s - loss: 0.0881 - accuracy: 0.9727 - val_loss: 0.1015 - val_accuracy: 0.9800\n",
            "Epoch 13/64\n",
            "67/67 - 65s - loss: 0.0871 - accuracy: 0.9727 - val_loss: 0.1721 - val_accuracy: 0.9900\n",
            "Epoch 14/64\n",
            "67/67 - 66s - loss: 0.0925 - accuracy: 0.9670 - val_loss: 0.0115 - val_accuracy: 1.0000\n",
            "Epoch 15/64\n",
            "67/67 - 66s - loss: 0.0804 - accuracy: 0.9727 - val_loss: 0.1536 - val_accuracy: 0.9900\n",
            "Epoch 16/64\n",
            "67/67 - 65s - loss: 0.0610 - accuracy: 0.9821 - val_loss: 0.0550 - val_accuracy: 0.9900\n",
            "Epoch 17/64\n",
            "67/67 - 68s - loss: 0.0661 - accuracy: 0.9783 - val_loss: 0.0168 - val_accuracy: 0.9900\n",
            "Epoch 18/64\n",
            "67/67 - 70s - loss: 0.0568 - accuracy: 0.9859 - val_loss: 0.1234 - val_accuracy: 0.9700\n",
            "Epoch 19/64\n",
            "67/67 - 73s - loss: 0.0498 - accuracy: 0.9849 - val_loss: 0.1367 - val_accuracy: 0.9800\n"
          ],
          "name": "stdout"
        }
      ]
    },
    {
      "cell_type": "code",
      "metadata": {
        "id": "VvMzgy6xdctz",
        "outputId": "e0a2211b-8264-402f-de24-2fa14de05269",
        "colab": {
          "base_uri": "https://localhost:8080/",
          "height": 282
        }
      },
      "source": [
        "losses = pd.DataFrame(model.history.history)\n",
        "losses[['loss', 'val_loss']].plot()"
      ],
      "execution_count": 45,
      "outputs": [
        {
          "output_type": "execute_result",
          "data": {
            "text/plain": [
              "<matplotlib.axes._subplots.AxesSubplot at 0x7fbcbe291e10>"
            ]
          },
          "metadata": {
            "tags": []
          },
          "execution_count": 45
        },
        {
          "output_type": "display_data",
          "data": {
            "image/png": "[encoded data removed]",
            "text/plain": [
              "<Figure size 432x288 with 1 Axes>"
            ]
          },
          "metadata": {
            "tags": [],
            "needs_background": "light"
          }
        }
      ]
    },
    {
      "cell_type": "markdown",
      "metadata": {
        "id": "JAS0RR_jhsfI"
      },
      "source": [
        "## Saving model to file"
      ]
    },
    {
      "cell_type": "code",
      "metadata": {
        "id": "iAnrWeRXhva6"
      },
      "source": [
        "# model.save(model_path)"
      ],
      "execution_count": 46,
      "outputs": []
    },
    {
      "cell_type": "markdown",
      "metadata": {
        "id": "flOnxIQROl4_"
      },
      "source": [
        "# Results\n",
        "\n",
        "---\n"
      ]
    },
    {
      "cell_type": "code",
      "metadata": {
        "id": "VtaLSZAtgzPK",
        "outputId": "95407006-c95b-4d1e-dfcf-41fc646f046e",
        "colab": {
          "base_uri": "https://localhost:8080/",
          "height": 638
        }
      },
      "source": [
        "metrics = pd.DataFrame(model.history.history)\n",
        "metrics"
      ],
      "execution_count": 47,
      "outputs": [
        {
          "output_type": "execute_result",
          "data": {
            "text/html": [
              "<div>\n",
              "<style scoped>\n",
              "    .dataframe tbody tr th:only-of-type {\n",
              "        vertical-align: middle;\n",
              "    }\n",
              "\n",
              "    .dataframe tbody tr th {\n",
              "        vertical-align: top;\n",
              "    }\n",
              "\n",
              "    .dataframe thead th {\n",
              "        text-align: right;\n",
              "    }\n",
              "</style>\n",
              "<table border=\"1\" class=\"dataframe\">\n",
              "  <thead>\n",
              "    <tr style=\"text-align: right;\">\n",
              "      <th></th>\n",
              "      <th>loss</th>\n",
              "      <th>accuracy</th>\n",
              "      <th>val_loss</th>\n",
              "      <th>val_accuracy</th>\n",
              "    </tr>\n",
              "  </thead>\n",
              "  <tbody>\n",
              "    <tr>\n",
              "      <th>0</th>\n",
              "      <td>2.328294</td>\n",
              "      <td>0.500942</td>\n",
              "      <td>0.678512</td>\n",
              "      <td>0.82</td>\n",
              "    </tr>\n",
              "    <tr>\n",
              "      <th>1</th>\n",
              "      <td>0.638354</td>\n",
              "      <td>0.758004</td>\n",
              "      <td>0.298244</td>\n",
              "      <td>0.86</td>\n",
              "    </tr>\n",
              "    <tr>\n",
              "      <th>2</th>\n",
              "      <td>0.459013</td>\n",
              "      <td>0.826742</td>\n",
              "      <td>0.365156</td>\n",
              "      <td>0.92</td>\n",
              "    </tr>\n",
              "    <tr>\n",
              "      <th>3</th>\n",
              "      <td>0.328964</td>\n",
              "      <td>0.883239</td>\n",
              "      <td>0.235222</td>\n",
              "      <td>0.93</td>\n",
              "    </tr>\n",
              "    <tr>\n",
              "      <th>4</th>\n",
              "      <td>0.239344</td>\n",
              "      <td>0.916196</td>\n",
              "      <td>0.170334</td>\n",
              "      <td>0.95</td>\n",
              "    </tr>\n",
              "    <tr>\n",
              "      <th>5</th>\n",
              "      <td>0.218690</td>\n",
              "      <td>0.924670</td>\n",
              "      <td>0.066783</td>\n",
              "      <td>0.98</td>\n",
              "    </tr>\n",
              "    <tr>\n",
              "      <th>6</th>\n",
              "      <td>0.154739</td>\n",
              "      <td>0.952919</td>\n",
              "      <td>0.123997</td>\n",
              "      <td>0.96</td>\n",
              "    </tr>\n",
              "    <tr>\n",
              "      <th>7</th>\n",
              "      <td>0.167584</td>\n",
              "      <td>0.935970</td>\n",
              "      <td>0.153941</td>\n",
              "      <td>0.95</td>\n",
              "    </tr>\n",
              "    <tr>\n",
              "      <th>8</th>\n",
              "      <td>0.101736</td>\n",
              "      <td>0.958569</td>\n",
              "      <td>0.140970</td>\n",
              "      <td>0.97</td>\n",
              "    </tr>\n",
              "    <tr>\n",
              "      <th>9</th>\n",
              "      <td>0.119813</td>\n",
              "      <td>0.966102</td>\n",
              "      <td>0.042224</td>\n",
              "      <td>0.98</td>\n",
              "    </tr>\n",
              "    <tr>\n",
              "      <th>10</th>\n",
              "      <td>0.128675</td>\n",
              "      <td>0.961394</td>\n",
              "      <td>0.040932</td>\n",
              "      <td>0.99</td>\n",
              "    </tr>\n",
              "    <tr>\n",
              "      <th>11</th>\n",
              "      <td>0.088131</td>\n",
              "      <td>0.972693</td>\n",
              "      <td>0.101528</td>\n",
              "      <td>0.98</td>\n",
              "    </tr>\n",
              "    <tr>\n",
              "      <th>12</th>\n",
              "      <td>0.087112</td>\n",
              "      <td>0.972693</td>\n",
              "      <td>0.172098</td>\n",
              "      <td>0.99</td>\n",
              "    </tr>\n",
              "    <tr>\n",
              "      <th>13</th>\n",
              "      <td>0.092501</td>\n",
              "      <td>0.967043</td>\n",
              "      <td>0.011519</td>\n",
              "      <td>1.00</td>\n",
              "    </tr>\n",
              "    <tr>\n",
              "      <th>14</th>\n",
              "      <td>0.080434</td>\n",
              "      <td>0.972693</td>\n",
              "      <td>0.153649</td>\n",
              "      <td>0.99</td>\n",
              "    </tr>\n",
              "    <tr>\n",
              "      <th>15</th>\n",
              "      <td>0.060963</td>\n",
              "      <td>0.982109</td>\n",
              "      <td>0.055005</td>\n",
              "      <td>0.99</td>\n",
              "    </tr>\n",
              "    <tr>\n",
              "      <th>16</th>\n",
              "      <td>0.066065</td>\n",
              "      <td>0.978343</td>\n",
              "      <td>0.016767</td>\n",
              "      <td>0.99</td>\n",
              "    </tr>\n",
              "    <tr>\n",
              "      <th>17</th>\n",
              "      <td>0.056832</td>\n",
              "      <td>0.985876</td>\n",
              "      <td>0.123362</td>\n",
              "      <td>0.97</td>\n",
              "    </tr>\n",
              "    <tr>\n",
              "      <th>18</th>\n",
              "      <td>0.049771</td>\n",
              "      <td>0.984934</td>\n",
              "      <td>0.136682</td>\n",
              "      <td>0.98</td>\n",
              "    </tr>\n",
              "  </tbody>\n",
              "</table>\n",
              "</div>"
            ],
            "text/plain": [
              "        loss  accuracy  val_loss  val_accuracy\n",
              "0   2.328294  0.500942  0.678512          0.82\n",
              "1   0.638354  0.758004  0.298244          0.86\n",
              "2   0.459013  0.826742  0.365156          0.92\n",
              "3   0.328964  0.883239  0.235222          0.93\n",
              "4   0.239344  0.916196  0.170334          0.95\n",
              "5   0.218690  0.924670  0.066783          0.98\n",
              "6   0.154739  0.952919  0.123997          0.96\n",
              "7   0.167584  0.935970  0.153941          0.95\n",
              "8   0.101736  0.958569  0.140970          0.97\n",
              "9   0.119813  0.966102  0.042224          0.98\n",
              "10  0.128675  0.961394  0.040932          0.99\n",
              "11  0.088131  0.972693  0.101528          0.98\n",
              "12  0.087112  0.972693  0.172098          0.99\n",
              "13  0.092501  0.967043  0.011519          1.00\n",
              "14  0.080434  0.972693  0.153649          0.99\n",
              "15  0.060963  0.982109  0.055005          0.99\n",
              "16  0.066065  0.978343  0.016767          0.99\n",
              "17  0.056832  0.985876  0.123362          0.97\n",
              "18  0.049771  0.984934  0.136682          0.98"
            ]
          },
          "metadata": {
            "tags": []
          },
          "execution_count": 47
        }
      ]
    },
    {
      "cell_type": "markdown",
      "metadata": {
        "id": "SFytDgrDOzFi"
      },
      "source": [
        "## Single image prediction"
      ]
    },
    {
      "cell_type": "code",
      "metadata": {
        "id": "J8NOUPe7whQu"
      },
      "source": [
        "# model = load_model(model_path)\n",
        "# model = create_model()\n",
        "# model.load_weights(model_path)"
      ],
      "execution_count": 48,
      "outputs": []
    },
    {
      "cell_type": "code",
      "metadata": {
        "id": "bOhVHB_8VBdH",
        "outputId": "c938b230-11c0-48fe-ef01-a62bb0c6d112",
        "colab": {
          "base_uri": "https://localhost:8080/",
          "height": 1000
        }
      },
      "source": [
        "# for i in range(10):\n",
        "#     print(\"-------------\")\n",
        "#     nmb = random.randint(1, 1060)\n",
        "#     my_hand = show_img(nmb)\n",
        "#     # print(my_hand)\n",
        "#     # show_img(nmb)\n",
        "#     # my_hand = my_hand.reshape(1, vert_y, horiz_x, 3)\n",
        "#     my_hand = np.expand_dims(my_hand, axis=0)\n",
        "#     # print(my_hand)\n",
        "#     # result = model.predict_classes(my_hand)\n",
        "#     result = model.predict(my_hand)\n",
        "#     print(result)\n",
        "#     result = np.argmax(result, axis=-1)\n",
        "#     # result = model.predict(my_hand)\n",
        "#     print(result)\n",
        "#     # result = (CNN.predict(my_hand) > 0.5).astype(\"int32\")\n",
        "#     result = int(result)\n",
        "#     print('CNN says: ' + class_names[result])"
      ],
      "execution_count": 83,
      "outputs": [
        {
          "output_type": "stream",
          "text": [
            "-------------\n",
            "/content/drive/My Drive/Colab Notebooks/skin dataset/Train/3_4/4_P_hgr1_id10_2 - Copy.bmp\n",
            "Gesture: 4\n",
            "[[0.19763027 0.22286446 0.20882034 0.18926    0.18142487]]\n",
            "[1]\n",
            "CNN says: 2\n",
            "-------------\n",
            "/content/drive/My Drive/Colab Notebooks/skin dataset/Train/0_1/1_P_hgr1_id09_1.bmp\n",
            "Gesture: 1\n",
            "[[0.20051472 0.2258586  0.20803653 0.18402562 0.18156448]]\n",
            "[1]\n",
            "CNN says: 2\n",
            "-------------\n",
            "/content/drive/My Drive/Colab Notebooks/skin dataset/Train/1_2/2_P_hgr1_id02_1 - Copy (6).bmp\n",
            "Gesture: 2\n",
            "[[0.2002224  0.22701453 0.20826426 0.18398853 0.1805103 ]]\n",
            "[1]\n",
            "CNN says: 2\n",
            "-------------\n",
            "/content/drive/My Drive/Colab Notebooks/skin dataset/Train/1_2/2_P_hgr1_id08_4 - Copy (2).bmp\n",
            "Gesture: 2\n",
            "[[0.20541684 0.23161055 0.20639381 0.18136913 0.17520963]]\n",
            "[1]\n",
            "CNN says: 2\n",
            "-------------\n",
            "/content/drive/My Drive/Colab Notebooks/skin dataset/Train/3_4/4_P_hgr1_id12_1 - Copy (6).bmp\n",
            "Gesture: 4\n",
            "[[0.21433918 0.24150999 0.20238838 0.17724434 0.16451807]]\n",
            "[1]\n",
            "CNN says: 2\n",
            "-------------\n",
            "/content/drive/My Drive/Colab Notebooks/skin dataset/Train/4_5/5_P_hgr1_id01_3 - Copy (4).bmp\n",
            "Gesture: 5\n",
            "[[0.20017476 0.22811922 0.20959535 0.1854665  0.17664413]]\n",
            "[1]\n",
            "CNN says: 2\n",
            "-------------\n",
            "/content/drive/My Drive/Colab Notebooks/skin dataset/Train/2_3/3_P_hgr1_id10_3 - Copy (6).bmp\n",
            "Gesture: 3\n",
            "[[0.19564234 0.22566335 0.21030419 0.18717206 0.18121807]]\n",
            "[1]\n",
            "CNN says: 2\n",
            "-------------\n",
            "/content/drive/My Drive/Colab Notebooks/skin dataset/Train/2_3/3_P_hgr1_id07_3 - Copy (4).bmp\n",
            "Gesture: 3\n",
            "[[0.19485171 0.22096997 0.21246247 0.18744361 0.18427227]]\n",
            "[1]\n",
            "CNN says: 2\n",
            "-------------\n",
            "/content/drive/My Drive/Colab Notebooks/skin dataset/Train/2_3/3_P_hgr1_id02_1 - Copy.bmp\n",
            "Gesture: 3\n",
            "[[0.20709033 0.23015751 0.20564309 0.18376572 0.1733434 ]]\n",
            "[1]\n",
            "CNN says: 2\n",
            "-------------\n",
            "/content/drive/My Drive/Colab Notebooks/skin dataset/Train/1_2/2_P_hgr1_id03_2 - Copy (5).bmp\n",
            "Gesture: 2\n",
            "[[0.20185663 0.22685027 0.20720398 0.18485886 0.17923029]]\n",
            "[1]\n",
            "CNN says: 2\n"
          ],
          "name": "stdout"
        },
        {
          "output_type": "display_data",
          "data": {
            "image/png": "[encoded data removed]",
            "text/plain": [
              "<Figure size 432x288 with 1 Axes>"
            ]
          },
          "metadata": {
            "tags": [],
            "needs_background": "light"
          }
        }
      ]
    },
    {
      "cell_type": "code",
      "metadata": {
        "id": "kOjJObV0VJMC",
        "outputId": "a1cfbdaa-3685-4f0c-cfcd-24344a932201",
        "colab": {
          "base_uri": "https://localhost:8080/",
          "height": 1000
        }
      },
      "source": [
        "imgslist = glob.glob(f'{imgs_test_path}/*/*')\n",
        "\n",
        "for i in range(10):\n",
        "    nmb = random.randint(1, test_set_size)\n",
        "    show_img(nmb, imgs_test_path)\n",
        "    single_img = imgslist[nmb]\n",
        "    single_img = image.load_img(single_img, target_size=(horiz_x, vert_y, 3))\n",
        "    single_img = image.img_to_array(single_img)\n",
        "    single_img = np.expand_dims(single_img, axis=0)\n",
        "    prediction = model.predict(single_img)\n",
        "    print('Class prediction: ')\n",
        "    # print(prediction[0])\n",
        "    for i, prc in enumerate(prediction[0]):\n",
        "        print(class_names[i] +\": \" + str(100*round(prc, 2)) + '%', end=\" \")\n",
        "    prediction = np.argmax(prediction, axis=-1)\n",
        "    print('\\nCNN says: ' + class_names[int(prediction)])\n",
        "\n",
        "\n"
      ],
      "execution_count": 136,
      "outputs": [
        {
          "output_type": "display_data",
          "data": {
            "image/png": "[encoded data removed]",
            "text/plain": [
              "<Figure size 432x288 with 1 Axes>"
            ]
          },
          "metadata": {
            "tags": [],
            "needs_background": "light"
          }
        },
        {
          "output_type": "stream",
          "text": [
            "Gesture: 2\n",
            "Class prediction: \n",
            "1: 0.0% 2: 100.0% 3: 0.0% 4: 0.0% 5: 0.0% \n",
            "CNN says: 2\n"
          ],
          "name": "stdout"
        },
        {
          "output_type": "display_data",
          "data": {
            "image/png": "[encoded data removed]",
            "text/plain": [
              "<Figure size 432x288 with 1 Axes>"
            ]
          },
          "metadata": {
            "tags": [],
            "needs_background": "light"
          }
        },
        {
          "output_type": "stream",
          "text": [
            "Gesture: 4\n",
            "Class prediction: \n",
            "1: 0.0% 2: 0.0% 3: 0.0% 4: 100.0% 5: 0.0% \n",
            "CNN says: 4\n"
          ],
          "name": "stdout"
        },
        {
          "output_type": "display_data",
          "data": {
            "image/png": "[encoded data removed]",
            "text/plain": [
              "<Figure size 432x288 with 1 Axes>"
            ]
          },
          "metadata": {
            "tags": [],
            "needs_background": "light"
          }
        },
        {
          "output_type": "stream",
          "text": [
            "Gesture: 3\n",
            "Class prediction: \n",
            "1: 0.0% 2: 0.0% 3: 100.0% 4: 0.0% 5: 0.0% \n",
            "CNN says: 3\n"
          ],
          "name": "stdout"
        },
        {
          "output_type": "display_data",
          "data": {
            "image/png": "[encoded data removed]",
            "text/plain": [
              "<Figure size 432x288 with 1 Axes>"
            ]
          },
          "metadata": {
            "tags": [],
            "needs_background": "light"
          }
        },
        {
          "output_type": "stream",
          "text": [
            "Gesture: 1\n",
            "Class prediction: \n",
            "1: 100.0% 2: 0.0% 3: 0.0% 4: 0.0% 5: 0.0% \n",
            "CNN says: 1\n"
          ],
          "name": "stdout"
        },
        {
          "output_type": "display_data",
          "data": {
            "image/png": "[encoded data removed]",
            "text/plain": [
              "<Figure size 432x288 with 1 Axes>"
            ]
          },
          "metadata": {
            "tags": [],
            "needs_background": "light"
          }
        },
        {
          "output_type": "stream",
          "text": [
            "Gesture: 4\n",
            "Class prediction: \n",
            "1: 0.0% 2: 0.0% 3: 0.0% 4: 100.0% 5: 0.0% \n",
            "CNN says: 4\n"
          ],
          "name": "stdout"
        },
        {
          "output_type": "display_data",
          "data": {
            "image/png": "[encoded data removed]",
            "text/plain": [
              "<Figure size 432x288 with 1 Axes>"
            ]
          },
          "metadata": {
            "tags": [],
            "needs_background": "light"
          }
        },
        {
          "output_type": "stream",
          "text": [
            "Gesture: 1\n",
            "Class prediction: \n",
            "1: 100.0% 2: 0.0% 3: 0.0% 4: 0.0% 5: 0.0% \n",
            "CNN says: 1\n"
          ],
          "name": "stdout"
        },
        {
          "output_type": "display_data",
          "data": {
            "image/png": "[encoded data removed]",
            "text/plain": [
              "<Figure size 432x288 with 1 Axes>"
            ]
          },
          "metadata": {
            "tags": [],
            "needs_background": "light"
          }
        },
        {
          "output_type": "stream",
          "text": [
            "Gesture: 4\n",
            "Class prediction: \n",
            "1: 0.0% 2: 0.0% 3: 0.0% 4: 100.0% 5: 0.0% \n",
            "CNN says: 4\n"
          ],
          "name": "stdout"
        },
        {
          "output_type": "display_data",
          "data": {
            "image/png": "[encoded data removed]",
            "text/plain": [
              "<Figure size 432x288 with 1 Axes>"
            ]
          },
          "metadata": {
            "tags": [],
            "needs_background": "light"
          }
        },
        {
          "output_type": "stream",
          "text": [
            "Gesture: 3\n",
            "Class prediction: \n",
            "1: 0.0% 2: 0.0% 3: 0.0% 4: 100.0% 5: 0.0% \n",
            "CNN says: 4\n"
          ],
          "name": "stdout"
        },
        {
          "output_type": "display_data",
          "data": {
            "image/png": "[encoded data removed]",
            "text/plain": [
              "<Figure size 432x288 with 1 Axes>"
            ]
          },
          "metadata": {
            "tags": [],
            "needs_background": "light"
          }
        },
        {
          "output_type": "stream",
          "text": [
            "Gesture: 5\n",
            "Class prediction: \n",
            "1: 0.0% 2: 0.0% 3: 0.0% 4: 0.0% 5: 100.0% \n",
            "CNN says: 5\n"
          ],
          "name": "stdout"
        },
        {
          "output_type": "display_data",
          "data": {
            "image/png": "[encoded data removed]",
            "text/plain": [
              "<Figure size 432x288 with 1 Axes>"
            ]
          },
          "metadata": {
            "tags": [],
            "needs_background": "light"
          }
        },
        {
          "output_type": "stream",
          "text": [
            "Gesture: 5\n",
            "Class prediction: \n",
            "1: 0.0% 2: 0.0% 3: 0.0% 4: 0.0% 5: 100.0% \n",
            "CNN says: 5\n"
          ],
          "name": "stdout"
        }
      ]
    },
    {
      "cell_type": "markdown",
      "metadata": {
        "id": "rQsDgI5RO3lm"
      },
      "source": [
        "## Predictions for individual classes"
      ]
    },
    {
      "cell_type": "code",
      "metadata": {
        "id": "e1CCpmyR-o_O"
      },
      "source": [
        "# predictions = model.predict_classes(test_image_gen)\n",
        "predictions = np.argmax(model.predict(test_image_gen), axis=-1)"
      ],
      "execution_count": 51,
      "outputs": []
    },
    {
      "cell_type": "code",
      "metadata": {
        "id": "Zv3EpAC2XDKz",
        "outputId": "0b5d941a-2943-44e3-cb5f-795bfb2a0977",
        "colab": {
          "base_uri": "https://localhost:8080/"
        }
      },
      "source": [
        "print(classification_report(test_image_gen.classes,predictions))"
      ],
      "execution_count": 52,
      "outputs": [
        {
          "output_type": "stream",
          "text": [
            "              precision    recall  f1-score   support\n",
            "\n",
            "           0       0.95      1.00      0.98        20\n",
            "           1       0.95      0.95      0.95        20\n",
            "           2       0.95      0.90      0.92        20\n",
            "           3       0.91      1.00      0.95        20\n",
            "           4       1.00      0.90      0.95        20\n",
            "\n",
            "    accuracy                           0.95       100\n",
            "   macro avg       0.95      0.95      0.95       100\n",
            "weighted avg       0.95      0.95      0.95       100\n",
            "\n"
          ],
          "name": "stdout"
        }
      ]
    },
    {
      "cell_type": "code",
      "metadata": {
        "id": "rRV3l4enays3",
        "outputId": "db82537c-88b4-485d-85d3-02395723322d",
        "colab": {
          "base_uri": "https://localhost:8080/"
        }
      },
      "source": [
        "confusion_matrix(test_image_gen.classes,predictions)"
      ],
      "execution_count": 53,
      "outputs": [
        {
          "output_type": "execute_result",
          "data": {
            "text/plain": [
              "array([[20,  0,  0,  0,  0],\n",
              "       [ 1, 19,  0,  0,  0],\n",
              "       [ 0,  1, 18,  1,  0],\n",
              "       [ 0,  0,  0, 20,  0],\n",
              "       [ 0,  0,  1,  1, 18]])"
            ]
          },
          "metadata": {
            "tags": []
          },
          "execution_count": 53
        }
      ]
    },
    {
      "cell_type": "markdown",
      "metadata": {
        "id": "2gAlIkh7ZCyH"
      },
      "source": [
        "# Unmount Google drive"
      ]
    },
    {
      "cell_type": "code",
      "metadata": {
        "id": "mAVH-aNsDY0F"
      },
      "source": [
        "# drive.flush_and_unmount()"
      ],
      "execution_count": 54,
      "outputs": []
    },
    {
      "cell_type": "code",
      "metadata": {
        "id": "3R5ii1QkyLYM"
      },
      "source": [
        ""
      ],
      "execution_count": 54,
      "outputs": []
    }
  ]
}